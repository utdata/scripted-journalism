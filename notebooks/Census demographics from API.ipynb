{
 "cells": [
  {
   "cell_type": "markdown",
   "metadata": {
    "collapsed": true
   },
   "source": [
    "NOtes\n",
    "\n",
    "decennial\n",
    "https://census.gov/data/developers/data-sets/decennial-census.html\n",
    "https://api.census.gov/data/2010/sf1/variables.html\n",
    "https://api.census.gov/data.html\n",
    "\n",
    "\n",
    "5year acs\n",
    "https://www.census.gov/data/developers/data-sets/acs-5year.html\n",
    "\n",
    "api\n",
    "https://census.gov/data/developers/updates/new-discovery-tool.html"
   ]
  },
  {
   "cell_type": "code",
   "execution_count": null,
   "metadata": {
    "collapsed": true
   },
   "outputs": [],
   "source": []
  }
 ],
 "metadata": {
  "kernelspec": {
   "display_name": "Python 3",
   "language": "python",
   "name": "python3"
  },
  "language_info": {
   "codemirror_mode": {
    "name": "ipython",
    "version": 3
   },
   "file_extension": ".py",
   "mimetype": "text/x-python",
   "name": "python",
   "nbconvert_exporter": "python",
   "pygments_lexer": "ipython3",
   "version": "3.5.2"
  }
 },
 "nbformat": 4,
 "nbformat_minor": 0
}
