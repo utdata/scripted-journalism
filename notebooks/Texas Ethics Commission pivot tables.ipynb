{
 "cells": [
  {
   "cell_type": "markdown",
   "metadata": {},
   "source": [
    "# Pivot data: Texas Ethics Commisison data\n",
    "\n",
    "This [data set](https://drive.google.com/file/d/0B8ConnGcXrv8SmlQQzNVOEtmRGc/view) is of the amount of money  raised for several years by Texas Legislature candidates, as provided by the Texas Ethics Commission. The data set was later annotated by a reporter with the race and party of each candidate, and totals for candidates running for statewide office were removed as their totals would skew simple statistics.\n",
    "\n",
    "Your goal is to get some basic totals information, and also to figure out if minority Legislators \"earn\" contributions smaller than their share of the legislature as a whole? Conversely, do anglo candidates earn more that their share of the pie?\n",
    "\n",
    "You'll upload the resulting spreadsheet with a worksheet for set of questions.  Write the actual answers in cells to the side of the pivot table where applicable.\n",
    "\n",
    "These are the directions for Excel:\n",
    "\n",
    "- Q1.1: Who made the most overall?\n",
    "    - Pivot by candidate, amount. Sort by amount descending.\n",
    "- Q1.2: Who made the most in the most recent election cycle?\n",
    "    - Add election cycle to filter and set.\n",
    "- Q2: What was the average amount raised each election cycle by Democrats and Republicans?\n",
    "    - Pivot by Party and average(amount).\n",
    "    - Make a bar chart of the results.\n",
    "- Q3: What was the average amount raised overall by race?\n",
    "    - Pivot by race, average(amount).\n",
    "- Q4: Of the totals raised, what percentage was raised by race?\n",
    "    - Pivot by race, sum(amount).\n",
    "    - Copy the main table results and paste values elsewhere on sheet.\n",
    "    - Create column for Percentage and create formulas for the math.\n",
    "    - Make a pie chart from the results.\n",
    "- Q5: Of the total candidates, what is their percentage of the total by race? (We can't use the \"count\" feature here, so we'll count a bit more manually. Bonus points to student who can explain why we can't use \"count\" of candidates?)\n",
    "    - Pivot by candidate. Filter by race.\n",
    "    - Next to the pivot table, create your own table with columns for Race and Count.\n",
    "    - Filter by race, then select all the names and note the \"Count:\" at the bottom right of the screen. Add that number to your table.\n",
    "    - Create a column for PrcOfTotal and create your formulas.\n",
    "\n",
    "How does the percentage given by race compare to the makeup of the legislature as a whole?\n",
    "\n"
   ]
  },
  {
   "cell_type": "code",
   "execution_count": 4,
   "metadata": {
    "collapsed": true
   },
   "outputs": [],
   "source": [
    "import agate\n",
    "import agateexcel\n",
    "import warnings\n",
    "warnings.filterwarnings('ignore')"
   ]
  },
  {
   "cell_type": "code",
   "execution_count": 5,
   "metadata": {
    "collapsed": false
   },
   "outputs": [
    {
     "name": "stdout",
     "output_type": "stream",
     "text": [
      "| column         | data_type |\n",
      "| -------------- | --------- |\n",
      "| Name           | Text      |\n",
      "| Candidate      | Text      |\n",
      "| Party          | Text      |\n",
      "| Year           | Text      |\n",
      "| Election cycle | Text      |\n",
      "| Amount         | Number    |\n",
      "| Race-Ethnicity | Text      |\n",
      "\n"
     ]
    }
   ],
   "source": [
    "# sets Year as text instead of number\n",
    "specified_types = {\n",
    "    'Year': agate.Text(),\n",
    "}\n",
    "\n",
    "# import the data\n",
    "raw = agate.Table.from_xlsx('../data/tec-totals-cleaned.xlsx', column_types=specified_types)\n",
    "\n",
    "# print the columns\n",
    "print(raw)"
   ]
  },
  {
   "cell_type": "code",
   "execution_count": 6,
   "metadata": {
    "collapsed": false
   },
   "outputs": [
    {
     "name": "stdout",
     "output_type": "stream",
     "text": [
      "| column         | data_type |\n",
      "| -------------- | --------- |\n",
      "| Candidate      | Text      |\n",
      "| Party          | Text      |\n",
      "| Year           | Text      |\n",
      "| Election cycle | Text      |\n",
      "| Amount         | Number    |\n",
      "| Race-Ethnicity | Text      |\n",
      "\n"
     ]
    }
   ],
   "source": [
    "# exclude original name column. we just need the cleaned one\n",
    "\n",
    "raw_selected = raw.exclude('Name')\n",
    "print(raw_selected)"
   ]
  },
  {
   "cell_type": "code",
   "execution_count": 7,
   "metadata": {
    "collapsed": true
   },
   "outputs": [],
   "source": [
    "# as a matter of habit, I do all my filtering,\n",
    "# then reset the table to the last filter\n",
    "# this way I can adjust filters above without affecting everything below\n",
    "tec = raw_selected"
   ]
  },
  {
   "cell_type": "code",
   "execution_count": 8,
   "metadata": {
    "collapsed": false
   },
   "outputs": [
    {
     "name": "stdout",
     "output_type": "stream",
     "text": [
      "| Candidate    | Party | Year | Election cycle |     Amount | Race-Ethnicity |\n",
      "| ------------ | ----- | ---- | -------------- | ---------- | -------------- |\n",
      "| Aaron Pena   | D     | 2009 | 2009-2010      |  35,543.13 | Hispanic       |\n",
      "| Aaron Pena   | R     | 2010 | 2009-2010      |  70,550.00 | Hispanic       |\n",
      "| Aaron Pena   | R     | 2011 | 2011-2012      |  58,893.18 | Hispanic       |\n",
      "| Abel Herrero | D     | 2009 | 2009-2010      | 167,189.73 | Hispanic       |\n",
      "| Abel Herrero | D     | 2012 | 2011-2012      | 538,533.00 | Hispanic       |\n"
     ]
    }
   ],
   "source": [
    "# print top of table to see what it looks like\n",
    "tec.limit(5).print_table()"
   ]
  },
  {
   "cell_type": "markdown",
   "metadata": {},
   "source": [
    "## Q1.1 Who made the most overall?\n",
    "- Group by candidate\n",
    "- create total raised column with an aggregation\n",
    "- order the new table by total raised and print the top records"
   ]
  },
  {
   "cell_type": "code",
   "execution_count": 9,
   "metadata": {
    "collapsed": false
   },
   "outputs": [
    {
     "name": "stdout",
     "output_type": "stream",
     "text": [
      "| Candidate          | Total raised |\n",
      "| ------------------ | ------------ |\n",
      "| Todd A. Hunter     | 3,407,905.19 |\n",
      "| John Whitmire      | 3,407,483.58 |\n",
      "| John Carona        | 3,346,511.95 |\n",
      "| Juan Chuy Hinojosa | 3,212,715.51 |\n",
      "| Kirk Watson        | 3,134,486.07 |\n"
     ]
    }
   ],
   "source": [
    "# group the data by candidate\n",
    "tec_candidates = tec.group_by('Candidate')\n",
    "\n",
    "# aggregate the Amount column\n",
    "candidate_totals = tec_candidates.aggregate([\n",
    "    ('Total raised', agate.Sum('Amount')),\n",
    "])\n",
    "\n",
    "# print the top of the table, reverse order of Total raised\n",
    "candidate_totals.order_by('Total raised', reverse=True).limit(5).print_table()"
   ]
  },
  {
   "cell_type": "markdown",
   "metadata": {},
   "source": [
    "## Q.2 Who made the most in most recent cycle\n",
    "- view the distinct cycle values\n",
    "- group by both candidate and election cycle\n",
    "- create aggregate of total raised\n",
    "- sort by total raised\n",
    "- filter to most recent cycle\n",
    "- print the top record"
   ]
  },
  {
   "cell_type": "code",
   "execution_count": 10,
   "metadata": {
    "collapsed": false
   },
   "outputs": [
    {
     "data": {
      "text/plain": [
       "('2009-2010', '2013-2014', '2011-2012')"
      ]
     },
     "execution_count": 10,
     "metadata": {},
     "output_type": "execute_result"
    }
   ],
   "source": [
    "# view the distinct election cycles\n",
    "tec.columns['Election cycle'].values_distinct()"
   ]
  },
  {
   "cell_type": "code",
   "execution_count": 11,
   "metadata": {
    "collapsed": false
   },
   "outputs": [
    {
     "name": "stdout",
     "output_type": "stream",
     "text": [
      "| Candidate         | Election cycle | Total raised |\n",
      "| ----------------- | -------------- | ------------ |\n",
      "| Konni Burton      | 2013-2014      | 2,742,737.50 |\n",
      "| Brandon Creighton | 2013-2014      | 1,983,895.78 |\n",
      "| Larry Taylor      | 2011-2012      | 1,932,719.22 |\n",
      "| Sylvia Garcia     | 2013-2014      | 1,831,889.32 |\n",
      "| Kelly Hancock     | 2011-2012      | 1,712,407.49 |\n"
     ]
    }
   ],
   "source": [
    "# group by candidate and election cycle\n",
    "tec_cand_cycle = tec.group_by('Candidate').group_by('Election cycle')\n",
    "\n",
    "# create sum of Amount\n",
    "tec_cand_cycle_totals = tec_cand_cycle.aggregate([\n",
    "        ('Total raised', agate.Sum('Amount'))\n",
    "    ])\n",
    "\n",
    "# sort the resulting table based on Total raised\n",
    "tec_cand_cycle_total_sort = tec_cand_cycle_totals.order_by('Total raised', reverse=True)\n",
    "\n",
    "# print the result\n",
    "tec_cand_cycle_total_sort.limit(5).print_table()"
   ]
  },
  {
   "cell_type": "code",
   "execution_count": 12,
   "metadata": {
    "collapsed": false
   },
   "outputs": [
    {
     "name": "stdout",
     "output_type": "stream",
     "text": [
      "| Candidate    | Election cycle | Total raised |\n",
      "| ------------ | -------------- | ------------ |\n",
      "| Konni Burton | 2013-2014      |  2,742,737.5 |\n"
     ]
    }
   ],
   "source": [
    "# while we can see we have our most recent value already,\n",
    "# we will filter for it anyway to get our single answer\n",
    "\n",
    "# filter our sorted list for '2013-2014'\n",
    "tec_sorted_latest = tec_cand_cycle_total_sort.where(lambda row: row['Election cycle'] == '2013-2014')\n",
    "\n",
    "tec_sorted_latest.limit(1).print_table()"
   ]
  },
  {
   "cell_type": "markdown",
   "metadata": {},
   "source": [
    "## Q2: What was the average amount raised each election cycle by Democrats and Republicans?\n",
    "- Group by party and election cycle\n",
    "- Create aggegate of average\n",
    "- Make a chart of the results?"
   ]
  },
  {
   "cell_type": "code",
   "execution_count": 18,
   "metadata": {
    "collapsed": false
   },
   "outputs": [
    {
     "name": "stdout",
     "output_type": "stream",
     "text": [
      "| Party | Election cycle | Total raised |\n",
      "| ----- | -------------- | ------------ |\n",
      "| D     | 2009-2010      | 155,672.840… |\n",
      "| D     | 2011-2012      | 185,343.738… |\n",
      "| D     | 2013-2014      | 176,097.873… |\n",
      "| R     | 2009-2010      | 215,121.064… |\n",
      "| R     | 2011-2012      | 213,314.860… |\n",
      "| R     | 2013-2014      | 231,270.693… |\n"
     ]
    }
   ],
   "source": [
    "tec_party_cycle = tec.group_by('Party').group_by('Election cycle')\n",
    "\n",
    "tec_party_totals = tec_party_cycle.aggregate([\n",
    "        ('Total raised', agate.Mean('Amount'))\n",
    "    ])\n",
    "\n",
    "tec_party_totals.print_table()"
   ]
  },
  {
   "cell_type": "code",
   "execution_count": 26,
   "metadata": {
    "collapsed": false
   },
   "outputs": [
    {
     "name": "stdout",
     "output_type": "stream",
     "text": [
      "| Party | Election cycle | Total raised |   Total |\n",
      "| ----- | -------------- | ------------ | ------- |\n",
      "| D     | 2009-2010      | 155,672.840… | 155,673 |\n",
      "| D     | 2011-2012      | 185,343.738… | 185,344 |\n",
      "| D     | 2013-2014      | 176,097.873… | 176,098 |\n",
      "| R     | 2009-2010      | 215,121.064… | 215,121 |\n",
      "| R     | 2011-2012      | 213,314.860… | 213,315 |\n",
      "| R     | 2013-2014      | 231,270.693… | 231,271 |\n",
      "| Party | Election cycle |   Total |\n",
      "| ----- | -------------- | ------- |\n",
      "| D     | 2009-2010      | 155,673 |\n",
      "| D     | 2011-2012      | 185,344 |\n",
      "| D     | 2013-2014      | 176,098 |\n",
      "| R     | 2009-2010      | 215,121 |\n",
      "| R     | 2011-2012      | 213,315 |\n",
      "| R     | 2013-2014      | 231,271 |\n"
     ]
    }
   ],
   "source": [
    "# rounding is more complicated than it should be in agate\n",
    "# We have to create a rounding function and then compute a new column with it\n",
    "\n",
    "# we need this standard python module\n",
    "from decimal import Decimal\n",
    "\n",
    "# we define our function\n",
    "def round_column(row):\n",
    "    return row['Total raised'].quantize(Decimal('0'))\n",
    "\n",
    "# create a new table with the new column\n",
    "tec_party_totals_rnd = tec_party_totals.compute([\n",
    "    ('Total', agate.Formula(agate.Number(), round_column))\n",
    "])\n",
    "\n",
    "# print table to view it\n",
    "tec_party_totals_rnd.print_table()\n",
    "\n",
    "# select columns we want into a clean table\n",
    "tec_party_totals_data = tec_party_totals_rnd.select(['Party', 'Election cycle', 'Total'])\n",
    "tec_party_totals_data.print_table()"
   ]
  },
  {
   "cell_type": "markdown",
   "metadata": {},
   "source": [
    "### I'm stuck on the chart\n",
    "\n",
    "Agate's leather does not have a multiple column chart that I can find.\n",
    "\n",
    "I'm having trouble with matplotlib"
   ]
  },
  {
   "cell_type": "code",
   "execution_count": null,
   "metadata": {
    "collapsed": true
   },
   "outputs": [],
   "source": []
  },
  {
   "cell_type": "code",
   "execution_count": null,
   "metadata": {
    "collapsed": true
   },
   "outputs": [],
   "source": []
  }
 ],
 "metadata": {
  "kernelspec": {
   "display_name": "Python 3",
   "language": "python",
   "name": "python3"
  },
  "language_info": {
   "codemirror_mode": {
    "name": "ipython",
    "version": 3
   },
   "file_extension": ".py",
   "mimetype": "text/x-python",
   "name": "python",
   "nbconvert_exporter": "python",
   "pygments_lexer": "ipython3",
   "version": "3.5.2"
  }
 },
 "nbformat": 4,
 "nbformat_minor": 0
}
