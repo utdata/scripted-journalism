{
 "cells": [
  {
   "cell_type": "markdown",
   "metadata": {},
   "source": [
    "# Pivot data: Texas Ethics Commisison data\n",
    "\n",
    "This [data set](https://drive.google.com/file/d/0B8ConnGcXrv8SmlQQzNVOEtmRGc/view) is of the amount of money raised  by Texas Legislature candidates over several years, as provided by the Texas Ethics Commission. The data set was later annotated by a reporter with the race and party of each candidate, and totals for candidates running for statewide office were removed as their totals would skew simple statistics.\n",
    "\n",
    "The question is: Do candidates of color receive a smaller piece of the campaign cash pie than their white counterparts. We wanted to test that theory.\n",
    "\n",
    "So here we get some basic totals information, and also to figure out if minority Legislators \"earn\" contributions smaller than their share of the legislature as a whole.\n",
    "\n",
    "These are the questions we are answering:\n",
    "\n",
    "- Q1.1: Who made the most overall for the time period?\n",
    "- Q1.2: Who made the most in the most recent election cycle?\n",
    "- Q2: What was the average amount raised each election cycle by Democrats and Republicans?\n",
    "- Q3: What was the average amount raised overall by race?\n",
    "- Q4: Of the totals raised, what percentage was raised by race?\n",
    "- Q5: Of the total candidates, what is their percentage of the total by race?\n",
    "\n",
    "How does the percentage given by race compare to the makeup of the legislature as a whole?\n",
    "\n"
   ]
  },
  {
   "cell_type": "code",
   "execution_count": 1,
   "metadata": {},
   "outputs": [
    {
     "name": "stderr",
     "output_type": "stream",
     "text": [
      "/anaconda3/envs/data/lib/python3.6/importlib/_bootstrap.py:219: ImportWarning: can't resolve package from __spec__ or __package__, falling back on __name__ and __path__\n",
      "/anaconda3/envs/data/lib/python3.6/importlib/_bootstrap.py:219: ImportWarning: can't resolve package from __spec__ or __package__, falling back on __name__ and __path__\n",
      "/anaconda3/envs/data/lib/python3.6/importlib/_bootstrap.py:219: ImportWarning: can't resolve package from __spec__ or __package__, falling back on __name__ and __path__\n",
      "/anaconda3/envs/data/lib/python3.6/importlib/_bootstrap.py:219: ImportWarning: can't resolve package from __spec__ or __package__, falling back on __name__ and __path__\n",
      "/anaconda3/envs/data/lib/python3.6/importlib/_bootstrap.py:219: ImportWarning: can't resolve package from __spec__ or __package__, falling back on __name__ and __path__\n",
      "/anaconda3/envs/data/lib/python3.6/importlib/_bootstrap.py:219: ImportWarning: can't resolve package from __spec__ or __package__, falling back on __name__ and __path__\n",
      "/anaconda3/envs/data/lib/python3.6/importlib/_bootstrap.py:219: ImportWarning: can't resolve package from __spec__ or __package__, falling back on __name__ and __path__\n",
      "/anaconda3/envs/data/lib/python3.6/importlib/_bootstrap.py:219: ImportWarning: can't resolve package from __spec__ or __package__, falling back on __name__ and __path__\n",
      "/anaconda3/envs/data/lib/python3.6/importlib/_bootstrap.py:219: ImportWarning: can't resolve package from __spec__ or __package__, falling back on __name__ and __path__\n",
      "/anaconda3/envs/data/lib/python3.6/importlib/_bootstrap.py:219: ImportWarning: can't resolve package from __spec__ or __package__, falling back on __name__ and __path__\n",
      "/anaconda3/envs/data/lib/python3.6/importlib/_bootstrap.py:219: ImportWarning: can't resolve package from __spec__ or __package__, falling back on __name__ and __path__\n",
      "/anaconda3/envs/data/lib/python3.6/importlib/_bootstrap.py:219: ImportWarning: can't resolve package from __spec__ or __package__, falling back on __name__ and __path__\n",
      "/anaconda3/envs/data/lib/python3.6/importlib/_bootstrap.py:219: ImportWarning: can't resolve package from __spec__ or __package__, falling back on __name__ and __path__\n",
      "/anaconda3/envs/data/lib/python3.6/importlib/_bootstrap.py:219: ImportWarning: can't resolve package from __spec__ or __package__, falling back on __name__ and __path__\n",
      "/anaconda3/envs/data/lib/python3.6/importlib/_bootstrap.py:219: ImportWarning: can't resolve package from __spec__ or __package__, falling back on __name__ and __path__\n",
      "/anaconda3/envs/data/lib/python3.6/importlib/_bootstrap.py:219: ImportWarning: can't resolve package from __spec__ or __package__, falling back on __name__ and __path__\n",
      "/anaconda3/envs/data/lib/python3.6/importlib/_bootstrap.py:219: ImportWarning: can't resolve package from __spec__ or __package__, falling back on __name__ and __path__\n",
      "/anaconda3/envs/data/lib/python3.6/importlib/_bootstrap.py:219: ImportWarning: can't resolve package from __spec__ or __package__, falling back on __name__ and __path__\n",
      "/anaconda3/envs/data/lib/python3.6/importlib/_bootstrap.py:219: ImportWarning: can't resolve package from __spec__ or __package__, falling back on __name__ and __path__\n",
      "/anaconda3/envs/data/lib/python3.6/importlib/_bootstrap.py:219: ImportWarning: can't resolve package from __spec__ or __package__, falling back on __name__ and __path__\n",
      "/anaconda3/envs/data/lib/python3.6/importlib/_bootstrap.py:219: ImportWarning: can't resolve package from __spec__ or __package__, falling back on __name__ and __path__\n",
      "/anaconda3/envs/data/lib/python3.6/importlib/_bootstrap.py:219: ImportWarning: can't resolve package from __spec__ or __package__, falling back on __name__ and __path__\n",
      "/anaconda3/envs/data/lib/python3.6/importlib/_bootstrap.py:219: ImportWarning: can't resolve package from __spec__ or __package__, falling back on __name__ and __path__\n",
      "/anaconda3/envs/data/lib/python3.6/importlib/_bootstrap.py:219: ImportWarning: can't resolve package from __spec__ or __package__, falling back on __name__ and __path__\n",
      "/anaconda3/envs/data/lib/python3.6/importlib/_bootstrap.py:219: ImportWarning: can't resolve package from __spec__ or __package__, falling back on __name__ and __path__\n",
      "/anaconda3/envs/data/lib/python3.6/importlib/_bootstrap.py:219: ImportWarning: can't resolve package from __spec__ or __package__, falling back on __name__ and __path__\n",
      "/anaconda3/envs/data/lib/python3.6/importlib/_bootstrap.py:219: ImportWarning: can't resolve package from __spec__ or __package__, falling back on __name__ and __path__\n",
      "/anaconda3/envs/data/lib/python3.6/importlib/_bootstrap.py:219: ImportWarning: can't resolve package from __spec__ or __package__, falling back on __name__ and __path__\n",
      "/anaconda3/envs/data/lib/python3.6/importlib/_bootstrap.py:219: ImportWarning: can't resolve package from __spec__ or __package__, falling back on __name__ and __path__\n",
      "/anaconda3/envs/data/lib/python3.6/importlib/_bootstrap.py:219: ImportWarning: can't resolve package from __spec__ or __package__, falling back on __name__ and __path__\n",
      "/anaconda3/envs/data/lib/python3.6/importlib/_bootstrap.py:219: ImportWarning: can't resolve package from __spec__ or __package__, falling back on __name__ and __path__\n",
      "/anaconda3/envs/data/lib/python3.6/importlib/_bootstrap.py:219: ImportWarning: can't resolve package from __spec__ or __package__, falling back on __name__ and __path__\n",
      "/anaconda3/envs/data/lib/python3.6/importlib/_bootstrap.py:219: ImportWarning: can't resolve package from __spec__ or __package__, falling back on __name__ and __path__\n",
      "/anaconda3/envs/data/lib/python3.6/importlib/_bootstrap.py:219: ImportWarning: can't resolve package from __spec__ or __package__, falling back on __name__ and __path__\n",
      "/anaconda3/envs/data/lib/python3.6/importlib/_bootstrap.py:219: ImportWarning: can't resolve package from __spec__ or __package__, falling back on __name__ and __path__\n",
      "/anaconda3/envs/data/lib/python3.6/importlib/_bootstrap.py:219: ImportWarning: can't resolve package from __spec__ or __package__, falling back on __name__ and __path__\n",
      "/anaconda3/envs/data/lib/python3.6/importlib/_bootstrap.py:219: ImportWarning: can't resolve package from __spec__ or __package__, falling back on __name__ and __path__\n",
      "/anaconda3/envs/data/lib/python3.6/importlib/_bootstrap.py:219: ImportWarning: can't resolve package from __spec__ or __package__, falling back on __name__ and __path__\n",
      "/anaconda3/envs/data/lib/python3.6/importlib/_bootstrap.py:219: ImportWarning: can't resolve package from __spec__ or __package__, falling back on __name__ and __path__\n",
      "/anaconda3/envs/data/lib/python3.6/importlib/_bootstrap.py:219: ImportWarning: can't resolve package from __spec__ or __package__, falling back on __name__ and __path__\n",
      "/anaconda3/envs/data/lib/python3.6/importlib/_bootstrap.py:219: ImportWarning: can't resolve package from __spec__ or __package__, falling back on __name__ and __path__\n",
      "/anaconda3/envs/data/lib/python3.6/importlib/_bootstrap.py:219: ImportWarning: can't resolve package from __spec__ or __package__, falling back on __name__ and __path__\n",
      "/anaconda3/envs/data/lib/python3.6/importlib/_bootstrap.py:219: ImportWarning: can't resolve package from __spec__ or __package__, falling back on __name__ and __path__\n",
      "/anaconda3/envs/data/lib/python3.6/importlib/_bootstrap.py:219: ImportWarning: can't resolve package from __spec__ or __package__, falling back on __name__ and __path__\n",
      "/anaconda3/envs/data/lib/python3.6/importlib/_bootstrap.py:219: ImportWarning: can't resolve package from __spec__ or __package__, falling back on __name__ and __path__\n",
      "/anaconda3/envs/data/lib/python3.6/importlib/_bootstrap.py:219: ImportWarning: can't resolve package from __spec__ or __package__, falling back on __name__ and __path__\n",
      "/anaconda3/envs/data/lib/python3.6/importlib/_bootstrap.py:219: ImportWarning: can't resolve package from __spec__ or __package__, falling back on __name__ and __path__\n",
      "/anaconda3/envs/data/lib/python3.6/importlib/_bootstrap.py:219: ImportWarning: can't resolve package from __spec__ or __package__, falling back on __name__ and __path__\n",
      "/anaconda3/envs/data/lib/python3.6/importlib/_bootstrap.py:219: ImportWarning: can't resolve package from __spec__ or __package__, falling back on __name__ and __path__\n",
      "/anaconda3/envs/data/lib/python3.6/importlib/_bootstrap.py:219: ImportWarning: can't resolve package from __spec__ or __package__, falling back on __name__ and __path__\n",
      "/anaconda3/envs/data/lib/python3.6/importlib/_bootstrap.py:219: ImportWarning: can't resolve package from __spec__ or __package__, falling back on __name__ and __path__\n",
      "/anaconda3/envs/data/lib/python3.6/importlib/_bootstrap.py:219: ImportWarning: can't resolve package from __spec__ or __package__, falling back on __name__ and __path__\n",
      "/anaconda3/envs/data/lib/python3.6/importlib/_bootstrap.py:219: ImportWarning: can't resolve package from __spec__ or __package__, falling back on __name__ and __path__\n",
      "/anaconda3/envs/data/lib/python3.6/importlib/_bootstrap.py:219: ImportWarning: can't resolve package from __spec__ or __package__, falling back on __name__ and __path__\n"
     ]
    },
    {
     "name": "stderr",
     "output_type": "stream",
     "text": [
      "/anaconda3/envs/data/lib/python3.6/importlib/_bootstrap.py:219: ImportWarning: can't resolve package from __spec__ or __package__, falling back on __name__ and __path__\n",
      "/anaconda3/envs/data/lib/python3.6/importlib/_bootstrap.py:219: ImportWarning: can't resolve package from __spec__ or __package__, falling back on __name__ and __path__\n",
      "/anaconda3/envs/data/lib/python3.6/importlib/_bootstrap.py:219: ImportWarning: can't resolve package from __spec__ or __package__, falling back on __name__ and __path__\n",
      "/anaconda3/envs/data/lib/python3.6/importlib/_bootstrap.py:219: ImportWarning: can't resolve package from __spec__ or __package__, falling back on __name__ and __path__\n",
      "/anaconda3/envs/data/lib/python3.6/importlib/_bootstrap.py:219: ImportWarning: can't resolve package from __spec__ or __package__, falling back on __name__ and __path__\n",
      "/anaconda3/envs/data/lib/python3.6/importlib/_bootstrap.py:219: ImportWarning: can't resolve package from __spec__ or __package__, falling back on __name__ and __path__\n",
      "/anaconda3/envs/data/lib/python3.6/importlib/_bootstrap.py:219: ImportWarning: can't resolve package from __spec__ or __package__, falling back on __name__ and __path__\n",
      "/anaconda3/envs/data/lib/python3.6/importlib/_bootstrap.py:219: ImportWarning: can't resolve package from __spec__ or __package__, falling back on __name__ and __path__\n",
      "/anaconda3/envs/data/lib/python3.6/importlib/_bootstrap.py:219: ImportWarning: can't resolve package from __spec__ or __package__, falling back on __name__ and __path__\n",
      "/anaconda3/envs/data/lib/python3.6/importlib/_bootstrap.py:219: ImportWarning: can't resolve package from __spec__ or __package__, falling back on __name__ and __path__\n",
      "/anaconda3/envs/data/lib/python3.6/importlib/_bootstrap.py:219: ImportWarning: can't resolve package from __spec__ or __package__, falling back on __name__ and __path__\n",
      "/anaconda3/envs/data/lib/python3.6/importlib/_bootstrap.py:219: ImportWarning: can't resolve package from __spec__ or __package__, falling back on __name__ and __path__\n",
      "/anaconda3/envs/data/lib/python3.6/importlib/_bootstrap.py:219: ImportWarning: can't resolve package from __spec__ or __package__, falling back on __name__ and __path__\n",
      "/anaconda3/envs/data/lib/python3.6/importlib/_bootstrap.py:219: ImportWarning: can't resolve package from __spec__ or __package__, falling back on __name__ and __path__\n",
      "/anaconda3/envs/data/lib/python3.6/importlib/_bootstrap.py:219: ImportWarning: can't resolve package from __spec__ or __package__, falling back on __name__ and __path__\n",
      "/anaconda3/envs/data/lib/python3.6/importlib/_bootstrap.py:219: ImportWarning: can't resolve package from __spec__ or __package__, falling back on __name__ and __path__\n",
      "/anaconda3/envs/data/lib/python3.6/importlib/_bootstrap.py:219: ImportWarning: can't resolve package from __spec__ or __package__, falling back on __name__ and __path__\n",
      "/anaconda3/envs/data/lib/python3.6/importlib/_bootstrap.py:219: ImportWarning: can't resolve package from __spec__ or __package__, falling back on __name__ and __path__\n",
      "/anaconda3/envs/data/lib/python3.6/importlib/_bootstrap.py:219: ImportWarning: can't resolve package from __spec__ or __package__, falling back on __name__ and __path__\n",
      "/anaconda3/envs/data/lib/python3.6/importlib/_bootstrap.py:219: ImportWarning: can't resolve package from __spec__ or __package__, falling back on __name__ and __path__\n",
      "/anaconda3/envs/data/lib/python3.6/importlib/_bootstrap.py:219: ImportWarning: can't resolve package from __spec__ or __package__, falling back on __name__ and __path__\n",
      "/anaconda3/envs/data/lib/python3.6/importlib/_bootstrap.py:219: ImportWarning: can't resolve package from __spec__ or __package__, falling back on __name__ and __path__\n",
      "/anaconda3/envs/data/lib/python3.6/importlib/_bootstrap.py:219: ImportWarning: can't resolve package from __spec__ or __package__, falling back on __name__ and __path__\n",
      "/anaconda3/envs/data/lib/python3.6/importlib/_bootstrap.py:219: ImportWarning: can't resolve package from __spec__ or __package__, falling back on __name__ and __path__\n",
      "/anaconda3/envs/data/lib/python3.6/importlib/_bootstrap.py:219: ImportWarning: can't resolve package from __spec__ or __package__, falling back on __name__ and __path__\n",
      "/anaconda3/envs/data/lib/python3.6/importlib/_bootstrap.py:219: ImportWarning: can't resolve package from __spec__ or __package__, falling back on __name__ and __path__\n",
      "/anaconda3/envs/data/lib/python3.6/importlib/_bootstrap.py:219: ImportWarning: can't resolve package from __spec__ or __package__, falling back on __name__ and __path__\n",
      "/anaconda3/envs/data/lib/python3.6/importlib/_bootstrap.py:219: ImportWarning: can't resolve package from __spec__ or __package__, falling back on __name__ and __path__\n",
      "/anaconda3/envs/data/lib/python3.6/importlib/_bootstrap.py:219: ImportWarning: can't resolve package from __spec__ or __package__, falling back on __name__ and __path__\n",
      "/anaconda3/envs/data/lib/python3.6/importlib/_bootstrap.py:219: ImportWarning: can't resolve package from __spec__ or __package__, falling back on __name__ and __path__\n",
      "/anaconda3/envs/data/lib/python3.6/importlib/_bootstrap.py:219: ImportWarning: can't resolve package from __spec__ or __package__, falling back on __name__ and __path__\n",
      "/anaconda3/envs/data/lib/python3.6/importlib/_bootstrap.py:219: ImportWarning: can't resolve package from __spec__ or __package__, falling back on __name__ and __path__\n",
      "/anaconda3/envs/data/lib/python3.6/importlib/_bootstrap.py:219: ImportWarning: can't resolve package from __spec__ or __package__, falling back on __name__ and __path__\n",
      "/anaconda3/envs/data/lib/python3.6/importlib/_bootstrap.py:219: ImportWarning: can't resolve package from __spec__ or __package__, falling back on __name__ and __path__\n",
      "/anaconda3/envs/data/lib/python3.6/importlib/_bootstrap.py:219: ImportWarning: can't resolve package from __spec__ or __package__, falling back on __name__ and __path__\n",
      "/anaconda3/envs/data/lib/python3.6/importlib/_bootstrap.py:219: ImportWarning: can't resolve package from __spec__ or __package__, falling back on __name__ and __path__\n",
      "/anaconda3/envs/data/lib/python3.6/importlib/_bootstrap.py:219: ImportWarning: can't resolve package from __spec__ or __package__, falling back on __name__ and __path__\n",
      "/anaconda3/envs/data/lib/python3.6/importlib/_bootstrap.py:219: ImportWarning: can't resolve package from __spec__ or __package__, falling back on __name__ and __path__\n",
      "/anaconda3/envs/data/lib/python3.6/importlib/_bootstrap.py:219: ImportWarning: can't resolve package from __spec__ or __package__, falling back on __name__ and __path__\n",
      "/anaconda3/envs/data/lib/python3.6/importlib/_bootstrap.py:219: ImportWarning: can't resolve package from __spec__ or __package__, falling back on __name__ and __path__\n",
      "/anaconda3/envs/data/lib/python3.6/importlib/_bootstrap.py:219: ImportWarning: can't resolve package from __spec__ or __package__, falling back on __name__ and __path__\n",
      "/anaconda3/envs/data/lib/python3.6/importlib/_bootstrap.py:219: ImportWarning: can't resolve package from __spec__ or __package__, falling back on __name__ and __path__\n",
      "/anaconda3/envs/data/lib/python3.6/importlib/_bootstrap.py:219: ImportWarning: can't resolve package from __spec__ or __package__, falling back on __name__ and __path__\n",
      "/anaconda3/envs/data/lib/python3.6/importlib/_bootstrap.py:219: ImportWarning: can't resolve package from __spec__ or __package__, falling back on __name__ and __path__\n",
      "/anaconda3/envs/data/lib/python3.6/importlib/_bootstrap.py:219: ImportWarning: can't resolve package from __spec__ or __package__, falling back on __name__ and __path__\n",
      "/anaconda3/envs/data/lib/python3.6/importlib/_bootstrap.py:219: ImportWarning: can't resolve package from __spec__ or __package__, falling back on __name__ and __path__\n",
      "/anaconda3/envs/data/lib/python3.6/importlib/_bootstrap.py:219: ImportWarning: can't resolve package from __spec__ or __package__, falling back on __name__ and __path__\n",
      "/anaconda3/envs/data/lib/python3.6/importlib/_bootstrap.py:219: ImportWarning: can't resolve package from __spec__ or __package__, falling back on __name__ and __path__\n",
      "/anaconda3/envs/data/lib/python3.6/importlib/_bootstrap.py:219: ImportWarning: can't resolve package from __spec__ or __package__, falling back on __name__ and __path__\n",
      "/anaconda3/envs/data/lib/python3.6/importlib/_bootstrap.py:219: ImportWarning: can't resolve package from __spec__ or __package__, falling back on __name__ and __path__\n",
      "/anaconda3/envs/data/lib/python3.6/importlib/_bootstrap.py:219: ImportWarning: can't resolve package from __spec__ or __package__, falling back on __name__ and __path__\n",
      "/anaconda3/envs/data/lib/python3.6/importlib/_bootstrap.py:219: ImportWarning: can't resolve package from __spec__ or __package__, falling back on __name__ and __path__\n",
      "/anaconda3/envs/data/lib/python3.6/importlib/_bootstrap.py:219: ImportWarning: can't resolve package from __spec__ or __package__, falling back on __name__ and __path__\n",
      "/anaconda3/envs/data/lib/python3.6/importlib/_bootstrap.py:219: ImportWarning: can't resolve package from __spec__ or __package__, falling back on __name__ and __path__\n"
     ]
    }
   ],
   "source": [
    "import agate\n",
    "import agateexcel\n",
    "import warnings\n",
    "warnings.filterwarnings('ignore')"
   ]
  },
  {
   "cell_type": "code",
   "execution_count": 2,
   "metadata": {},
   "outputs": [
    {
     "name": "stdout",
     "output_type": "stream",
     "text": [
      "| column         | data_type |\n",
      "| -------------- | --------- |\n",
      "| Name           | Text      |\n",
      "| Candidate      | Text      |\n",
      "| Party          | Text      |\n",
      "| Year           | Text      |\n",
      "| Election cycle | Text      |\n",
      "| Amount         | Number    |\n",
      "| Race-Ethnicity | Text      |\n",
      "\n"
     ]
    }
   ],
   "source": [
    "# sets Year as text instead of number\n",
    "specified_types = {\n",
    "    'Year': agate.Text(),\n",
    "}\n",
    "\n",
    "# import the data\n",
    "raw = agate.Table.from_xlsx('../data/tec-totals-cleaned.xlsx', column_types=specified_types)\n",
    "\n",
    "# print the columns\n",
    "print(raw)"
   ]
  },
  {
   "cell_type": "code",
   "execution_count": 3,
   "metadata": {},
   "outputs": [
    {
     "name": "stdout",
     "output_type": "stream",
     "text": [
      "| column         | data_type |\n",
      "| -------------- | --------- |\n",
      "| Candidate      | Text      |\n",
      "| Party          | Text      |\n",
      "| Year           | Text      |\n",
      "| Election cycle | Text      |\n",
      "| Amount         | Number    |\n",
      "| Race-Ethnicity | Text      |\n",
      "\n"
     ]
    }
   ],
   "source": [
    "# exclude original name column. we just need the cleaned one\n",
    "\n",
    "raw_selected = raw.exclude('Name')\n",
    "print(raw_selected)"
   ]
  },
  {
   "cell_type": "code",
   "execution_count": 4,
   "metadata": {},
   "outputs": [],
   "source": [
    "# as a matter of habit, I do all my filtering,\n",
    "# then reset the table to the last filter\n",
    "# this way I can adjust filters above without affecting everything below\n",
    "tec = raw_selected"
   ]
  },
  {
   "cell_type": "code",
   "execution_count": 5,
   "metadata": {},
   "outputs": [
    {
     "name": "stdout",
     "output_type": "stream",
     "text": [
      "| Candidate    | Party | Year | Election cycle |     Amount | Race-Ethnicity |\n",
      "| ------------ | ----- | ---- | -------------- | ---------- | -------------- |\n",
      "| Aaron Pena   | D     | 2009 | 2009-2010      |  35,543.13 | Hispanic       |\n",
      "| Aaron Pena   | R     | 2010 | 2009-2010      |  70,550.00 | Hispanic       |\n",
      "| Aaron Pena   | R     | 2011 | 2011-2012      |  58,893.18 | Hispanic       |\n",
      "| Abel Herrero | D     | 2009 | 2009-2010      | 167,189.73 | Hispanic       |\n",
      "| Abel Herrero | D     | 2012 | 2011-2012      | 538,533.00 | Hispanic       |\n"
     ]
    }
   ],
   "source": [
    "# print top of table to see what it looks like\n",
    "tec.limit(5).print_table()"
   ]
  },
  {
   "cell_type": "markdown",
   "metadata": {},
   "source": [
    "## Q1.1 Who made the most overall?\n",
    "\n",
    "- pivot candidate, but add totals\n",
    "- order the new table by total raised and print the top records"
   ]
  },
  {
   "cell_type": "code",
   "execution_count": 6,
   "metadata": {},
   "outputs": [
    {
     "name": "stdout",
     "output_type": "stream",
     "text": [
      "The default for a .pivot is to count the rows:\n",
      "\n",
      "| Candidate      | Count |\n",
      "| -------------- | ----- |\n",
      "| Aaron Pena     |     3 |\n",
      "| Abel Herrero   |     4 |\n",
      "| Al Edwards     |     1 |\n",
      "| Allan Ritter   |     5 |\n",
      "| Allen Fletcher |     6 |\n",
      "| ...            |   ... |\n",
      "\n",
      "This is the amended table:\n",
      "\n",
      "| Candidate          |          Sum |\n",
      "| ------------------ | ------------ |\n",
      "| Todd A. Hunter     | 3,407,905.19 |\n",
      "| John Whitmire      | 3,407,483.58 |\n",
      "| John Carona        | 3,346,511.95 |\n",
      "| Juan Chuy Hinojosa | 3,212,715.51 |\n",
      "| Kirk Watson        | 3,134,486.07 |\n",
      "| ...                |          ... |\n",
      "\n",
      " Todd Hunter leads the pack.\n"
     ]
    }
   ],
   "source": [
    "# pivot by candidate to see the basic pivot\n",
    "print('The default for a .pivot is to count the rows:\\n')\n",
    "tec_candidate_pivot = tec.pivot('Candidate')\n",
    "tec_candidate_pivot.print_table(5)\n",
    "\n",
    "\n",
    "# We can amend the pivot to instead perform an aggregation, in this case a Sum of Amount.\n",
    "tec_candidate_totals = tec.pivot('Candidate', aggregation=agate.Sum('Amount'))\n",
    "\n",
    "# We then order the table by Sum reversed, then print the top 5\n",
    "print('\\nThis is the amended table:\\n')\n",
    "tec_candidate_totals.order_by('Sum', reverse=True).print_table(5)\n",
    "print('\\n Todd Hunter leads the pack.')"
   ]
  },
  {
   "cell_type": "markdown",
   "metadata": {},
   "source": [
    "## Q.2 Who made the most in most recent cycle\n",
    "- pivot by candidate and eleciton cycle\n",
    "- filter the result by the most recent eleciton cycle\n",
    "- order by the amount reversed"
   ]
  },
  {
   "cell_type": "code",
   "execution_count": 7,
   "metadata": {},
   "outputs": [
    {
     "name": "stdout",
     "output_type": "stream",
     "text": [
      "print the pivot table:\n",
      "\n",
      "| Candidate      |  2009-2010 |  2011-2012 |  2013-2014 |\n",
      "| -------------- | ---------- | ---------- | ---------- |\n",
      "| Aaron Pena     | 106,093.13 |  58,893.18 |       0.00 |\n",
      "| Abel Herrero   | 167,189.73 | 538,533.00 | 229,788.97 |\n",
      "| Al Edwards     |  35,674.66 |       0.00 |       0.00 |\n",
      "| Allan Ritter   | 185,028.82 | 401,040.55 |  10,000.00 |\n",
      "| Allen Fletcher | 154,628.80 | 180,864.84 | 200,875.24 |\n",
      "| ...            |        ... |        ... |        ... |\n",
      "\n",
      "Select one column, then order it;\n",
      "\n",
      "| Candidate         |    2013-2014 |\n",
      "| ----------------- | ------------ |\n",
      "| Konni Burton      | 2,742,737.50 |\n",
      "| Brandon Creighton | 1,983,895.78 |\n",
      "| Sylvia Garcia     | 1,831,889.32 |\n",
      "| Don Huffines      | 1,637,242.83 |\n",
      "| Todd A. Hunter    | 1,386,391.85 |\n",
      "| ...               |          ... |\n",
      "\n",
      "Konni Burton made the most in 2013-2014.\n"
     ]
    }
   ],
   "source": [
    "# There are many ways to do this, but we'll do a pivot like above,\n",
    "# but pivot on two columns instead of one\n",
    "tec_pivot_cand_cycle = tec.pivot('Candidate', 'Election cycle', aggregation=agate.Sum('Amount'))\n",
    "print('print the pivot table:\\n')\n",
    "tec_pivot_cand_cycle.print_table(5)\n",
    "\n",
    "\n",
    "# Then we'll select only the most recent column, then order by the values there\n",
    "# in reverse order\n",
    "print('\\nSelect one column, then order it;\\n')\n",
    "tec_pivot_cand_cycle.select(['Candidate', '2013-2014']).order_by('2013-2014', reverse=True).print_table(5)\n",
    "\n",
    "print('\\nKonni Burton made the most in 2013-2014.')"
   ]
  },
  {
   "cell_type": "markdown",
   "metadata": {},
   "source": [
    "## Q2: What was the average amount raised each election cycle by Democrats and Republicans?\n",
    "- Pivot by Election Cycle and Part, and aggregate by mean\n",
    "- Create a chart for each party"
   ]
  },
  {
   "cell_type": "code",
   "execution_count": 8,
   "metadata": {},
   "outputs": [
    {
     "name": "stdout",
     "output_type": "stream",
     "text": [
      "| Election cycle |            D |            R |\n",
      "| -------------- | ------------ | ------------ |\n",
      "| 2009-2010      | 155,672.840… | 215,121.064… |\n",
      "| 2011-2012      | 185,343.738… | 213,314.860… |\n",
      "| 2013-2014      | 176,097.873… | 231,270.693… |\n"
     ]
    }
   ],
   "source": [
    "pivot_party_cycle = tec.pivot('Election cycle', 'Party', aggregation=agate.Mean('Amount'))\n",
    "pivot_party_cycle.print_table()"
   ]
  },
  {
   "cell_type": "markdown",
   "metadata": {},
   "source": [
    "### Let's chart the results\n",
    "\n",
    "Unfortunately, we can't plot both D and R on the same column chart in agate. (Major flaw, IMHO.) But we can select just the Dems and plot those, then the the GOP."
   ]
  },
  {
   "cell_type": "code",
   "execution_count": 9,
   "metadata": {},
   "outputs": [
    {
     "data": {
      "image/svg+xml": [
       "<svg height=\"600\" version=\"1.1\" width=\"800\" xmlns=\"http://www.w3.org/2000/svg\"><g><rect fill=\"#f9f9f9\" height=\"600\" width=\"800\" x=\"0\" y=\"0\"/><g transform=\"translate(40 40)\"><g transform=\"translate(86 0)\"/><g transform=\"translate(0 0)\"><g transform=\"translate(86 0)\"><g class=\"axis bottom\"><text dy=\"1em\" fill=\"#666\" font-family=\"Monaco\" text-anchor=\"middle\" transform=\"\" x=\"317.0\" y=\"506.0\">Election cycle</text><g class=\"tick\"><line stroke=\"#eee\" stroke-width=\"1\" x1=\"105.6666666666666666666666666\" x2=\"105.6666666666666666666666666\" y1=\"0\" y2=\"472.0\"/><text dy=\"1em\" fill=\"#9c9c9c\" font-family=\"Monaco\" text-anchor=\"middle\" x=\"105.6666666666666666666666666\" y=\"476.0\">2009-2010</text></g><g class=\"tick\"><line stroke=\"#eee\" stroke-width=\"1\" x1=\"316.9999999999999999999999999\" x2=\"316.9999999999999999999999999\" y1=\"0\" y2=\"472.0\"/><text dy=\"1em\" fill=\"#9c9c9c\" font-family=\"Monaco\" text-anchor=\"middle\" x=\"316.9999999999999999999999999\" y=\"476.0\">2011-2012</text></g><g class=\"tick\"><line stroke=\"#eee\" stroke-width=\"1\" x1=\"528.3333333333333333333333332\" x2=\"528.3333333333333333333333332\" y1=\"0\" y2=\"472.0\"/><text dy=\"1em\" fill=\"#9c9c9c\" font-family=\"Monaco\" text-anchor=\"middle\" x=\"528.3333333333333333333333332\" y=\"476.0\">2013-2014</text></g></g><g class=\"axis left\"><text dy=\"\" fill=\"#666\" font-family=\"Monaco\" text-anchor=\"middle\" transform=\"rotate(270 -64 234)\" x=\"-64\" y=\"234.0\">D</text><g class=\"tick\"><line stroke=\"#eee\" stroke-width=\"1\" x1=\"-4\" x2=\"634.0\" y1=\"351.00\" y2=\"351.00\"/><text dy=\"0.32em\" fill=\"#9c9c9c\" font-family=\"Monaco\" text-anchor=\"end\" x=\"-8\" y=\"351.00\">50000</text></g><g class=\"tick\"><line stroke=\"#eee\" stroke-width=\"1\" x1=\"-4\" x2=\"634.0\" y1=\"234.0\" y2=\"234.0\"/><text dy=\"0.32em\" fill=\"#9c9c9c\" font-family=\"Monaco\" text-anchor=\"end\" x=\"-8\" y=\"234.0\">100000</text></g><g class=\"tick\"><line stroke=\"#eee\" stroke-width=\"1\" x1=\"-4\" x2=\"634.0\" y1=\"117.00\" y2=\"117.00\"/><text dy=\"0.32em\" fill=\"#9c9c9c\" font-family=\"Monaco\" text-anchor=\"end\" x=\"-8\" y=\"117.00\">150000</text></g><g class=\"tick\"><line stroke=\"#eee\" stroke-width=\"1\" x1=\"-4\" x2=\"634.0\" y1=\"0\" y2=\"0\"/><text dy=\"0.32em\" fill=\"#9c9c9c\" font-family=\"Monaco\" text-anchor=\"end\" x=\"-8\" y=\"0\">200000</text></g><g class=\"tick\"><line stroke=\"#a8a8a8\" stroke-width=\"1\" x1=\"-4\" x2=\"634.0\" y1=\"468\" y2=\"468\"/><text dy=\"0.32em\" fill=\"#9c9c9c\" font-family=\"Monaco\" text-anchor=\"end\" x=\"-8\" y=\"468\">0</text></g></g><g><g class=\"series columns\"><rect fill=\"#e41a1c\" height=\"364.2744446112676056338028169\" width=\"190.1999999999999999999999999\" x=\"10.56666666666666666666666666\" y=\"103.7255553887323943661971831\"/><rect fill=\"#e41a1c\" height=\"433.7043468837209302325581394\" width=\"190.1999999999999999999999999\" x=\"221.9000000000000000000000000\" y=\"34.2956531162790697674418606\"/><rect fill=\"#e41a1c\" height=\"412.0690228909090909090909090\" width=\"190.1999999999999999999999999\" x=\"433.2333333333333333333333333\" y=\"55.9309771090909090909090910\"/></g></g></g></g></g></g></svg>"
      ],
      "text/plain": [
       "<IPython.core.display.SVG object>"
      ]
     },
     "execution_count": 9,
     "metadata": {},
     "output_type": "execute_result"
    }
   ],
   "source": [
    "# first select the columns, then chart based on Eleciton cycle\n",
    "pivot_party_cycle.select(['Election cycle', 'D']).column_chart('Election cycle')\n"
   ]
  },
  {
   "cell_type": "code",
   "execution_count": 10,
   "metadata": {},
   "outputs": [
    {
     "data": {
      "image/svg+xml": [
       "<svg height=\"600\" version=\"1.1\" width=\"800\" xmlns=\"http://www.w3.org/2000/svg\"><g><rect fill=\"#f9f9f9\" height=\"600\" width=\"800\" x=\"0\" y=\"0\"/><g transform=\"translate(40 40)\"><g transform=\"translate(86 0)\"/><g transform=\"translate(0 0)\"><g transform=\"translate(86 0)\"><g class=\"axis bottom\"><text dy=\"1em\" fill=\"#666\" font-family=\"Monaco\" text-anchor=\"middle\" transform=\"\" x=\"317.0\" y=\"506.0\">Election cycle</text><g class=\"tick\"><line stroke=\"#eee\" stroke-width=\"1\" x1=\"105.6666666666666666666666666\" x2=\"105.6666666666666666666666666\" y1=\"0\" y2=\"472.0\"/><text dy=\"1em\" fill=\"#9c9c9c\" font-family=\"Monaco\" text-anchor=\"middle\" x=\"105.6666666666666666666666666\" y=\"476.0\">2009-2010</text></g><g class=\"tick\"><line stroke=\"#eee\" stroke-width=\"1\" x1=\"316.9999999999999999999999999\" x2=\"316.9999999999999999999999999\" y1=\"0\" y2=\"472.0\"/><text dy=\"1em\" fill=\"#9c9c9c\" font-family=\"Monaco\" text-anchor=\"middle\" x=\"316.9999999999999999999999999\" y=\"476.0\">2011-2012</text></g><g class=\"tick\"><line stroke=\"#eee\" stroke-width=\"1\" x1=\"528.3333333333333333333333332\" x2=\"528.3333333333333333333333332\" y1=\"0\" y2=\"472.0\"/><text dy=\"1em\" fill=\"#9c9c9c\" font-family=\"Monaco\" text-anchor=\"middle\" x=\"528.3333333333333333333333332\" y=\"476.0\">2013-2014</text></g></g><g class=\"axis left\"><text dy=\"\" fill=\"#666\" font-family=\"Monaco\" text-anchor=\"middle\" transform=\"rotate(270 -64 234)\" x=\"-64\" y=\"234.0\">R</text><g class=\"tick\"><line stroke=\"#eee\" stroke-width=\"1\" x1=\"-4\" x2=\"634.0\" y1=\"312.0000000000000000000000000\" y2=\"312.0000000000000000000000000\"/><text dy=\"0.32em\" fill=\"#9c9c9c\" font-family=\"Monaco\" text-anchor=\"end\" x=\"-8\" y=\"312.0000000000000000000000000\">100000</text></g><g class=\"tick\"><line stroke=\"#eee\" stroke-width=\"1\" x1=\"-4\" x2=\"634.0\" y1=\"156.0000000000000000000000000\" y2=\"156.0000000000000000000000000\"/><text dy=\"0.32em\" fill=\"#9c9c9c\" font-family=\"Monaco\" text-anchor=\"end\" x=\"-8\" y=\"156.0000000000000000000000000\">200000</text></g><g class=\"tick\"><line stroke=\"#eee\" stroke-width=\"1\" x1=\"-4\" x2=\"634.0\" y1=\"0\" y2=\"0\"/><text dy=\"0.32em\" fill=\"#9c9c9c\" font-family=\"Monaco\" text-anchor=\"end\" x=\"-8\" y=\"0\">300000</text></g><g class=\"tick\"><line stroke=\"#a8a8a8\" stroke-width=\"1\" x1=\"-4\" x2=\"634.0\" y1=\"468\" y2=\"468\"/><text dy=\"0.32em\" fill=\"#9c9c9c\" font-family=\"Monaco\" text-anchor=\"end\" x=\"-8\" y=\"468\">0</text></g></g><g><g class=\"series columns\"><rect fill=\"#e41a1c\" height=\"335.5888593903930131004366813\" width=\"190.1999999999999999999999999\" x=\"10.56666666666666666666666666\" y=\"132.4111406096069868995633187\"/><rect fill=\"#e41a1c\" height=\"332.7711823061728395061728395\" width=\"190.1999999999999999999999999\" x=\"221.9000000000000000000000000\" y=\"135.2288176938271604938271605\"/><rect fill=\"#e41a1c\" height=\"360.7822806966101694915254237\" width=\"190.1999999999999999999999999\" x=\"433.2333333333333333333333333\" y=\"107.2177193033898305084745763\"/></g></g></g></g></g></g></svg>"
      ],
      "text/plain": [
       "<IPython.core.display.SVG object>"
      ]
     },
     "execution_count": 10,
     "metadata": {},
     "output_type": "execute_result"
    }
   ],
   "source": [
    "# same for GOP\n",
    "pivot_party_cycle.select(['Election cycle', 'R']).column_chart('Election cycle')\n"
   ]
  },
  {
   "cell_type": "markdown",
   "metadata": {},
   "source": [
    "### Alternate method\n",
    "\n",
    "(PERHAPS THIS IS JUST CONFUSING AND I SHOULD STICK WITH PIVOTS)\n",
    "\n",
    "A flaw in the method above is the charts are not on the same axis, so they are hard to compare.\n",
    "\n",
    "To get charts of the average raised by party on the same axis, we have to approach this a little differently. We need a new row for each election cycle instead of a new column. To do this we will use `group_by` instead of `pivot`.\n",
    "\n",
    "- Group the tec table by Party and Eleciton cycle\n",
    "- Aggregate that table by the average raised"
   ]
  },
  {
   "cell_type": "code",
   "execution_count": 11,
   "metadata": {},
   "outputs": [
    {
     "name": "stdout",
     "output_type": "stream",
     "text": [
      "| Party | Election cycle | Average raised |\n",
      "| ----- | -------------- | -------------- |\n",
      "| D     | 2009-2010      |   155,672.840… |\n",
      "| D     | 2011-2012      |   185,343.738… |\n",
      "| D     | 2013-2014      |   176,097.873… |\n",
      "| R     | 2009-2010      |   215,121.064… |\n",
      "| R     | 2011-2012      |   213,314.860… |\n",
      "| R     | 2013-2014      |   231,270.693… |\n"
     ]
    }
   ],
   "source": [
    "# create a 'TableSet' with group_by\n",
    "tec_party_cycle = tec.group_by('Party').group_by('Election cycle')\n",
    "\n",
    "# we can't print a TableSet, but we can aggregate the data and create our table\n",
    "\n",
    "# create the average with an aggregation\n",
    "tec_party_avg = tec_party_cycle.aggregate([\n",
    "        ('Average raised', agate.Mean('Amount'))\n",
    "    ])\n",
    "\n",
    "# print the results\n",
    "tec_party_avg.print_table()"
   ]
  },
  {
   "cell_type": "markdown",
   "metadata": {},
   "source": [
    "### Chart by party\n",
    "\n",
    "Agate's leather does not have a multiple column chart, which is what we really need here. Instead, we group_by our `tec_party_totals` by Party, and then create column charts using that group, which give us both parties on the same scale.\n"
   ]
  },
  {
   "cell_type": "code",
   "execution_count": 12,
   "metadata": {},
   "outputs": [
    {
     "data": {
      "image/svg+xml": [
       "<svg height=\"600\" version=\"1.1\" width=\"1600\" xmlns=\"http://www.w3.org/2000/svg\"><g><rect fill=\"#f9f9f9\" height=\"600\" width=\"1600\" x=\"0\" y=\"0\"/><g><g transform=\"translate(0 0)\"><g><rect fill=\"#f9f9f9\" height=\"600.0\" width=\"800.0\" x=\"0\" y=\"0\"/><g transform=\"translate(40 40)\"><g transform=\"translate(86 0)\"><text fill=\"#333\" font-family=\"Monaco\" font-size=\"16\" x=\"0\" y=\"0\">D</text></g><g transform=\"translate(0 20)\"><g transform=\"translate(86 0)\"><g class=\"axis bottom\"><text dy=\"1em\" fill=\"#666\" font-family=\"Monaco\" text-anchor=\"middle\" transform=\"\" x=\"317.0\" y=\"486.0\">Election cycle</text><g class=\"tick\"><line stroke=\"#eee\" stroke-width=\"1\" x1=\"105.6666666666666666666666666\" x2=\"105.6666666666666666666666666\" y1=\"0\" y2=\"452.0\"/><text dy=\"1em\" fill=\"#9c9c9c\" font-family=\"Monaco\" text-anchor=\"middle\" x=\"105.6666666666666666666666666\" y=\"456.0\">2009-2010</text></g><g class=\"tick\"><line stroke=\"#eee\" stroke-width=\"1\" x1=\"316.9999999999999999999999999\" x2=\"316.9999999999999999999999999\" y1=\"0\" y2=\"452.0\"/><text dy=\"1em\" fill=\"#9c9c9c\" font-family=\"Monaco\" text-anchor=\"middle\" x=\"316.9999999999999999999999999\" y=\"456.0\">2011-2012</text></g><g class=\"tick\"><line stroke=\"#eee\" stroke-width=\"1\" x1=\"528.3333333333333333333333332\" x2=\"528.3333333333333333333333332\" y1=\"0\" y2=\"452.0\"/><text dy=\"1em\" fill=\"#9c9c9c\" font-family=\"Monaco\" text-anchor=\"middle\" x=\"528.3333333333333333333333332\" y=\"456.0\">2013-2014</text></g></g><g class=\"axis left\"><text dy=\"\" fill=\"#666\" font-family=\"Monaco\" text-anchor=\"middle\" transform=\"rotate(270 -64 224)\" x=\"-64\" y=\"224.0\">Average raised</text><g class=\"tick\"><line stroke=\"#eee\" stroke-width=\"1\" x1=\"-4\" x2=\"634.0\" y1=\"298.6666666666666666666666667\" y2=\"298.6666666666666666666666667\"/><text dy=\"0.32em\" fill=\"#9c9c9c\" font-family=\"Monaco\" text-anchor=\"end\" x=\"-8\" y=\"298.6666666666666666666666667\">100000</text></g><g class=\"tick\"><line stroke=\"#eee\" stroke-width=\"1\" x1=\"-4\" x2=\"634.0\" y1=\"149.3333333333333333333333333\" y2=\"149.3333333333333333333333333\"/><text dy=\"0.32em\" fill=\"#9c9c9c\" font-family=\"Monaco\" text-anchor=\"end\" x=\"-8\" y=\"149.3333333333333333333333333\">200000</text></g><g class=\"tick\"><line stroke=\"#eee\" stroke-width=\"1\" x1=\"-4\" x2=\"634.0\" y1=\"0\" y2=\"0\"/><text dy=\"0.32em\" fill=\"#9c9c9c\" font-family=\"Monaco\" text-anchor=\"end\" x=\"-8\" y=\"0\">300000</text></g><g class=\"tick\"><line stroke=\"#a8a8a8\" stroke-width=\"1\" x1=\"-4\" x2=\"634.0\" y1=\"448\" y2=\"448\"/><text dy=\"0.32em\" fill=\"#9c9c9c\" font-family=\"Monaco\" text-anchor=\"end\" x=\"-8\" y=\"448\">0</text></g></g><g><g class=\"series columns\"><rect fill=\"#e41a1c\" height=\"232.4714404356807511737089202\" width=\"190.1999999999999999999999999\" x=\"10.56666666666666666666666666\" y=\"215.5285595643192488262910798\"/><rect fill=\"#e41a1c\" height=\"276.7799820568475452196382428\" width=\"190.1999999999999999999999999\" x=\"221.9000000000000000000000000\" y=\"171.2200179431524547803617572\"/><rect fill=\"#e41a1c\" height=\"262.9728237252525252525252525\" width=\"190.1999999999999999999999999\" x=\"433.2333333333333333333333333\" y=\"185.0271762747474747474747475\"/></g></g></g></g></g></g></g><g transform=\"translate(800 0)\"><g><rect fill=\"#f9f9f9\" height=\"600.0\" width=\"800.0\" x=\"0\" y=\"0\"/><g transform=\"translate(40 40)\"><g transform=\"translate(86 0)\"><text fill=\"#333\" font-family=\"Monaco\" font-size=\"16\" x=\"0\" y=\"0\">R</text></g><g transform=\"translate(0 20)\"><g transform=\"translate(86 0)\"><g class=\"axis bottom\"><text dy=\"1em\" fill=\"#666\" font-family=\"Monaco\" text-anchor=\"middle\" transform=\"\" x=\"317.0\" y=\"486.0\">Election cycle</text><g class=\"tick\"><line stroke=\"#eee\" stroke-width=\"1\" x1=\"105.6666666666666666666666666\" x2=\"105.6666666666666666666666666\" y1=\"0\" y2=\"452.0\"/><text dy=\"1em\" fill=\"#9c9c9c\" font-family=\"Monaco\" text-anchor=\"middle\" x=\"105.6666666666666666666666666\" y=\"456.0\">2009-2010</text></g><g class=\"tick\"><line stroke=\"#eee\" stroke-width=\"1\" x1=\"316.9999999999999999999999999\" x2=\"316.9999999999999999999999999\" y1=\"0\" y2=\"452.0\"/><text dy=\"1em\" fill=\"#9c9c9c\" font-family=\"Monaco\" text-anchor=\"middle\" x=\"316.9999999999999999999999999\" y=\"456.0\">2011-2012</text></g><g class=\"tick\"><line stroke=\"#eee\" stroke-width=\"1\" x1=\"528.3333333333333333333333332\" x2=\"528.3333333333333333333333332\" y1=\"0\" y2=\"452.0\"/><text dy=\"1em\" fill=\"#9c9c9c\" font-family=\"Monaco\" text-anchor=\"middle\" x=\"528.3333333333333333333333332\" y=\"456.0\">2013-2014</text></g></g><g class=\"axis left\"><text dy=\"\" fill=\"#666\" font-family=\"Monaco\" text-anchor=\"middle\" transform=\"rotate(270 -64 224)\" x=\"-64\" y=\"224.0\">Average raised</text><g class=\"tick\"><line stroke=\"#eee\" stroke-width=\"1\" x1=\"-4\" x2=\"634.0\" y1=\"298.6666666666666666666666667\" y2=\"298.6666666666666666666666667\"/><text dy=\"0.32em\" fill=\"#9c9c9c\" font-family=\"Monaco\" text-anchor=\"end\" x=\"-8\" y=\"298.6666666666666666666666667\">100000</text></g><g class=\"tick\"><line stroke=\"#eee\" stroke-width=\"1\" x1=\"-4\" x2=\"634.0\" y1=\"149.3333333333333333333333333\" y2=\"149.3333333333333333333333333\"/><text dy=\"0.32em\" fill=\"#9c9c9c\" font-family=\"Monaco\" text-anchor=\"end\" x=\"-8\" y=\"149.3333333333333333333333333\">200000</text></g><g class=\"tick\"><line stroke=\"#eee\" stroke-width=\"1\" x1=\"-4\" x2=\"634.0\" y1=\"0\" y2=\"0\"/><text dy=\"0.32em\" fill=\"#9c9c9c\" font-family=\"Monaco\" text-anchor=\"end\" x=\"-8\" y=\"0\">300000</text></g><g class=\"tick\"><line stroke=\"#a8a8a8\" stroke-width=\"1\" x1=\"-4\" x2=\"634.0\" y1=\"448\" y2=\"448\"/><text dy=\"0.32em\" fill=\"#9c9c9c\" font-family=\"Monaco\" text-anchor=\"end\" x=\"-8\" y=\"448\">0</text></g></g><g><g class=\"series columns\"><rect fill=\"#e41a1c\" height=\"321.2474551429403202328966522\" width=\"190.1999999999999999999999999\" x=\"10.56666666666666666666666666\" y=\"126.7525448570596797671033478\"/><rect fill=\"#e41a1c\" height=\"318.5501916093278463648834019\" width=\"190.1999999999999999999999999\" x=\"221.9000000000000000000000000\" y=\"129.4498083906721536351165981\"/><rect fill=\"#e41a1c\" height=\"345.3642345129943502824858756\" width=\"190.1999999999999999999999999\" x=\"433.2333333333333333333333333\" y=\"102.6357654870056497175141244\"/></g></g></g></g></g></g></g></g></g></svg>"
      ],
      "text/plain": [
       "<IPython.core.display.SVG object>"
      ]
     },
     "execution_count": 12,
     "metadata": {},
     "output_type": "execute_result"
    }
   ],
   "source": [
    "tec_party_avg.group_by('Party').column_chart('Election cycle', 'Average raised')\n"
   ]
  },
  {
   "cell_type": "markdown",
   "metadata": {},
   "source": [
    "## Q3: What was the average amount raised overall by race?\n",
    "\n",
    "- pivot by race, aggregate by Mean"
   ]
  },
  {
   "cell_type": "code",
   "execution_count": 13,
   "metadata": {},
   "outputs": [
    {
     "name": "stdout",
     "output_type": "stream",
     "text": [
      "| column         | data_type |\n",
      "| -------------- | --------- |\n",
      "| Candidate      | Text      |\n",
      "| Party          | Text      |\n",
      "| Year           | Text      |\n",
      "| Election cycle | Text      |\n",
      "| Amount         | Number    |\n",
      "| Race-Ethnicity | Text      |\n",
      "\n"
     ]
    }
   ],
   "source": [
    "# printing columns for reference\n",
    "print(tec)"
   ]
  },
  {
   "cell_type": "code",
   "execution_count": 14,
   "metadata": {},
   "outputs": [
    {
     "name": "stdout",
     "output_type": "stream",
     "text": [
      "| Race-Ethnicity |         Mean |\n",
      "| -------------- | ------------ |\n",
      "| Hispanic       | 188,139.289… |\n",
      "| Black          | 159,519.456… |\n",
      "| White          | 214,745.078… |\n",
      "| Asian          | 132,153.272… |\n"
     ]
    }
   ],
   "source": [
    "# gets the average raced by race\n",
    "race_average = tec.pivot('Race-Ethnicity', aggregation=agate.Mean('Amount'))\n",
    "race_average.print_table()\n"
   ]
  },
  {
   "cell_type": "markdown",
   "metadata": {},
   "source": [
    "## Q4: Of the totals raised, what percentage was raised by race?\n",
    "\n",
    "This question shows you can create a computation based on the result of a pivot aggregation.\n",
    "\n",
    "We are pivoting on Race-Ethnicity, and instead of countying the rows, we use an aggregation to sum the Amount. The then add a computation to get the Percent of each row of the pivot. I show both tables."
   ]
  },
  {
   "cell_type": "code",
   "execution_count": 15,
   "metadata": {},
   "outputs": [
    {
     "name": "stdout",
     "output_type": "stream",
     "text": [
      "Table of the sums:\n",
      "\n",
      "| Race-Ethnicity |            Sum |\n",
      "| -------------- | -------------- |\n",
      "| Hispanic       |  45,153,429.40 |\n",
      "| Black          |  17,387,620.72 |\n",
      "| White          | 160,414,573.63 |\n",
      "| Asian          |   1,982,299.08 |\n",
      "\n",
      "Then add the computation\n",
      "\n",
      "| Race-Ethnicity | Percent |\n",
      "| -------------- | ------- |\n",
      "| Hispanic       | 20.074… |\n",
      "| Black          |  7.730… |\n",
      "| White          | 71.315… |\n",
      "| Asian          |  0.881… |\n"
     ]
    }
   ],
   "source": [
    "# pivots on race, adds the amounts, then computes the percentage\n",
    "race_total = tec.pivot('Race-Ethnicity', aggregation=agate.Sum('Amount'))\n",
    "print('Table of the sums:\\n')\n",
    "race_total.print_table()\n",
    "\n",
    "print('\\nThen add the computation\\n')\n",
    "race_percent = tec.pivot('Race-Ethnicity', aggregation=agate.Sum('Amount'), computation=agate.Percent('Sum'))\n",
    "race_percent.print_table()"
   ]
  },
  {
   "cell_type": "markdown",
   "metadata": {},
   "source": [
    "## Q5: Of the total candidates, what is their percentage of the total by race?\n",
    "\n",
    "- We have to get count of distinct candidates by race\n",
    "- We can get the distribution with `agate.Perent` which gets percent of totals for columns submitted."
   ]
  },
  {
   "cell_type": "code",
   "execution_count": 16,
   "metadata": {},
   "outputs": [
    {
     "name": "stdout",
     "output_type": "stream",
     "text": [
      "Length of tec: 1111\n",
      "Length of candidates: 295\n",
      "\n",
      "| Race-Ethnicity | Percent |\n",
      "| -------------- | ------- |\n",
      "| Hispanic       | 21.017… |\n",
      "| Black          |  7.797… |\n",
      "| White          | 70.169… |\n",
      "| Asian          |  1.017… |\n"
     ]
    }
   ],
   "source": [
    "# create new candidates table with name, race based on distinct candidate name\n",
    "candidates = tec.select(['Candidate', 'Race-Ethnicity']).distinct('Candidate')\n",
    "print('Length of tec: {}'.format(len(tec)))\n",
    "print('Length of candidates: {}\\n'.format(len(candidates)))\n",
    "# pivot candidates by race, but compute percent of count\n",
    "candidates_pivot = candidates.pivot('Race-Ethnicity', computation=agate.Percent('Count'))\n",
    "candidates_pivot.print_table()"
   ]
  },
  {
   "cell_type": "markdown",
   "metadata": {},
   "source": [
    "## The answer\n",
    "\n",
    "Comparing the two tables of the percent of contributions by race vs the percentage of the body by race, they are not much different."
   ]
  },
  {
   "cell_type": "code",
   "execution_count": null,
   "metadata": {},
   "outputs": [],
   "source": []
  }
 ],
 "metadata": {
  "kernelspec": {
   "display_name": "Python 3",
   "language": "python",
   "name": "python3"
  },
  "language_info": {
   "codemirror_mode": {
    "name": "ipython",
    "version": 3
   },
   "file_extension": ".py",
   "mimetype": "text/x-python",
   "name": "python",
   "nbconvert_exporter": "python",
   "pygments_lexer": "ipython3",
   "version": "3.6.4"
  }
 },
 "nbformat": 4,
 "nbformat_minor": 1
}
