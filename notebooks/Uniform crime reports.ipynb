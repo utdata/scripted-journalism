{
 "cells": [
  {
   "cell_type": "markdown",
   "metadata": {},
   "source": [
    "# Uniform Crime reports\n",
    "\n",
    "[Download tool](https://www.ucrdatatool.gov/Search/Crime/Local/OneYearofData.cfm)"
   ]
  },
  {
   "cell_type": "code",
   "execution_count": 1,
   "metadata": {
    "collapsed": true
   },
   "outputs": [],
   "source": [
    "import agate\n",
    "import warnings\n",
    "warnings.filterwarnings('ignore')\n",
    "# import csvkit"
   ]
  },
  {
   "cell_type": "code",
   "execution_count": 2,
   "metadata": {
    "collapsed": false
   },
   "outputs": [],
   "source": [
    "specified_types = {\n",
    "    'Agency': agate.Text(),\n",
    "    'State': agate.Text(),\n",
    "    'Months': agate.Number(),\n",
    "    'Population': agate.Number(),\n",
    "    'Violent total': agate.Number(),\n",
    "    'Murder': agate.Number(),\n",
    "    'Legacy rape': agate.Number(),\n",
    "    'Revised rape': agate.Number(),\n",
    "    'Robbery': agate.Number(),\n",
    "    'Aggravated assault': agate.Number(),\n",
    "    'Violent rate': agate.Number(),\n",
    "    'Murder rate': agate.Number(),\n",
    "    'Legacy rape rate': agate.Number(),\n",
    "    'Revised rape rate': agate.Number(),\n",
    "    'Robbery rate': agate.Number(),\n",
    "    'Agg assault rate': agate.Number()\n",
    "}\n",
    "\n",
    "text_type = agate.Text()\n",
    "number_type = agate.Number()\n",
    "\n",
    "column_names = ['Agency', 'State', 'Months', 'Population', 'Violent total', 'Murder',\n",
    "               'Legacy rape', 'Revised rape', 'Robbery', 'Agg assault',\n",
    "               'Violent rate', 'Murder rate', 'Legacy rape rate', 'Revised rape rate',\n",
    "               'Robbery rate', 'Agg assault rate']\n",
    "column_types = [text_type, text_type, number_type, number_type, number_type, number_type,\n",
    "               number_type, number_type, number_type, number_type,\n",
    "               number_type, number_type, number_type, number_type, \n",
    "               number_type, number_type]\n",
    "\n",
    "table = agate.Table.from_csv('../data/LocalCrimeOneYearofData.csv', column_names, column_types, skip_lines=8)"
   ]
  },
  {
   "cell_type": "code",
   "execution_count": 3,
   "metadata": {
    "collapsed": false
   },
   "outputs": [],
   "source": [
    "# filter to just texas to remove crap at the bottom\n",
    "rates = table.where(lambda row: row['State'] == 'TX')"
   ]
  },
  {
   "cell_type": "code",
   "execution_count": 4,
   "metadata": {
    "collapsed": false
   },
   "outputs": [
    {
     "name": "stdout",
     "output_type": "stream",
     "text": [
      "| column            | data_type |\n",
      "| ----------------- | --------- |\n",
      "| Agency            | Text      |\n",
      "| State             | Text      |\n",
      "| Months            | Number    |\n",
      "| Population        | Number    |\n",
      "| Violent total     | Number    |\n",
      "| Murder            | Number    |\n",
      "| Legacy rape       | Number    |\n",
      "| Revised rape      | Number    |\n",
      "| Robbery           | Number    |\n",
      "| Agg assault       | Number    |\n",
      "| Violent rate      | Number    |\n",
      "| Murder rate       | Number    |\n",
      "| Legacy rape rate  | Number    |\n",
      "| Revised rape rate | Number    |\n",
      "| Robbery rate      | Number    |\n",
      "| Agg assault rate  | Number    |\n",
      "\n",
      "| Agency             | State | Months | Population | Violent total | Murder | ... |\n",
      "| ------------------ | ----- | ------ | ---------- | ------------- | ------ | --- |\n",
      "| Laredo             | TX    |     12 |    200,805 |         1,088 |     15 | ... |\n",
      "| Uvalde Police Dept | TX    |     12 |     16,666 |            58 |      1 | ... |\n"
     ]
    }
   ],
   "source": [
    "print(rates)\n",
    "rates.print_table()"
   ]
  },
  {
   "cell_type": "code",
   "execution_count": 5,
   "metadata": {
    "collapsed": false
   },
   "outputs": [
    {
     "name": "stdout",
     "output_type": "stream",
     "text": [
      "| Agg assault | Violent rate | Murder rate | Legacy rape rate | Revised rape rate | Robbery rate | ... |\n",
      "| ----------- | ------------ | ----------- | ---------------- | ----------------- | ------------ | --- |\n",
      "|         801 |        541.8 |         7.5 |             25.9 |                   |        109.6 | ... |\n",
      "|          50 |        348.0 |         6.0 |              0.0 |                   |         42.0 | ... |\n"
     ]
    }
   ],
   "source": [
    "rates.select(['Agg assault',\n",
    "               'Violent rate', 'Murder rate', 'Legacy rape rate', 'Revised rape rate',\n",
    "               'Robbery rate', 'Agg assault rate']).print_table()"
   ]
  },
  {
   "cell_type": "code",
   "execution_count": null,
   "metadata": {
    "collapsed": true
   },
   "outputs": [],
   "source": []
  }
 ],
 "metadata": {
  "kernelspec": {
   "display_name": "Python 3",
   "language": "python",
   "name": "python3"
  },
  "language_info": {
   "codemirror_mode": {
    "name": "ipython",
    "version": 3
   },
   "file_extension": ".py",
   "mimetype": "text/x-python",
   "name": "python",
   "nbconvert_exporter": "python",
   "pygments_lexer": "ipython3",
   "version": "3.5.2"
  }
 },
 "nbformat": 4,
 "nbformat_minor": 0
}
