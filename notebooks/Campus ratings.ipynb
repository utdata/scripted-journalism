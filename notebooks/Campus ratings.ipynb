{
 "cells": [
  {
   "cell_type": "markdown",
   "metadata": {},
   "source": [
    "# Campus ratings\n",
    "\n",
    "## A scripted lesson\n",
    "\n",
    "This notebook takes my [Excel pivot table lesson](https://docs.google.com/document/d/1PRM1ozgbqkq69ZwpRue1ttho-FCHeKKR7Thybz6AAak/edit#heading=h.h6x8isam3qkn) and scripts it using agate.\n",
    "\n",
    "## About the data\n",
    "\n",
    "The Texas Education Agency rates public schools based on test scores and other factors. This lesson is based on the 2017 ratings released August 15, 2017. The file we are using, 2017-school-ratings.csv, is a version of the [downloadable data](https://rptsvr1.tea.texas.gov/perfreport/account/2017/download.html), but some processing has been done to cut down and rename the columns we need.\n",
    "\n",
    "(Perhaps we can come back later and add the preprocessing to this script.)\n",
    "\n",
    "\n",
    "## Goal\n",
    "\n",
    "We want to find a number of things from this data:\n",
    "- What percentage of charter schools received a \"Needs Improvement\" rating, compared to traditional public schools.\n",
    "- Which schools in Austin ISD received a \"Needs Improvement\" rating?\n",
    "- Which schools in Region 13 received a \"Needs Improvement\" rating?\n"
   ]
  },
  {
   "cell_type": "code",
   "execution_count": 1,
   "metadata": {
    "collapsed": true
   },
   "outputs": [],
   "source": [
    "import agate"
   ]
  },
  {
   "cell_type": "code",
   "execution_count": 5,
   "metadata": {
    "collapsed": true
   },
   "outputs": [],
   "source": [
    "\n",
    "specified_types = {\n",
    "      'District_ID': agate.Text(),\n",
    "      'Campus_ID': agate.Text(),\n",
    "      'REGION': agate.Text(),    \n",
    "  }\n",
    "\n",
    "raw = agate.Table.from_csv('../data/2017-school-ratings.csv', column_types=specified_types)\n"
   ]
  },
  {
   "cell_type": "code",
   "execution_count": 6,
   "metadata": {
    "collapsed": false
   },
   "outputs": [
    {
     "name": "stdout",
     "output_type": "stream",
     "text": [
      "| column      | data_type |\n",
      "| ----------- | --------- |\n",
      "| DISTNAME    | Text      |\n",
      "| CAMPNAME    | Text      |\n",
      "| District_ID | Text      |\n",
      "| Campus_ID   | Text      |\n",
      "| REGION      | Text      |\n",
      "| CFLALTED    | Boolean   |\n",
      "| C_RATING    | Text      |\n",
      "| CI1         | Number    |\n",
      "| CI1_CUT     | Number    |\n",
      "| CI1_MET     | Text      |\n",
      "| CI2         | Number    |\n",
      "| CI2_CUT     | Number    |\n",
      "| CI2_MET     | Text      |\n",
      "| CI3         | Number    |\n",
      "| CI3_CUT     | Number    |\n",
      "| CI3_MET     | Text      |\n",
      "| CI4         | Number    |\n",
      "| CI4_CUT     | Number    |\n",
      "| CI4_MET     | Text      |\n",
      "\n"
     ]
    }
   ],
   "source": [
    "print(raw)"
   ]
  },
  {
   "cell_type": "code",
   "execution_count": null,
   "metadata": {
    "collapsed": true
   },
   "outputs": [],
   "source": []
  }
 ],
 "metadata": {
  "kernelspec": {
   "display_name": "Python 3",
   "language": "python",
   "name": "python3"
  },
  "language_info": {
   "codemirror_mode": {
    "name": "ipython",
    "version": 3
   },
   "file_extension": ".py",
   "mimetype": "text/x-python",
   "name": "python",
   "nbconvert_exporter": "python",
   "pygments_lexer": "ipython3",
   "version": "3.5.2"
  }
 },
 "nbformat": 4,
 "nbformat_minor": 0
}
