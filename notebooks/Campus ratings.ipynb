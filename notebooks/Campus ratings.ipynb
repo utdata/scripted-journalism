{
 "cells": [
  {
   "cell_type": "markdown",
   "metadata": {},
   "source": [
    "# Campus ratings\n",
    "\n",
    "## A scripted lesson\n",
    "\n",
    "This notebook takes my [Excel pivot table lesson](https://docs.google.com/document/d/1PRM1ozgbqkq69ZwpRue1ttho-FCHeKKR7Thybz6AAak/edit#heading=h.h6x8isam3qkn) and scripts it using agate.\n",
    "\n",
    "## About the data\n",
    "\n",
    "The Texas Education Agency rates public schools based on test scores and other factors. This lesson is based on the 2017 ratings released August 15, 2017. The file we are using, 2017-school-ratings.csv, is a version of the [downloadable data](https://rptsvr1.tea.texas.gov/perfreport/account/2017/download.html), but some processing has been done to cut down and rename the columns we need.\n",
    "\n",
    "(This data set is actually a bit contrived for the purposes of learning a couple of skills, so perhaps we can come back later and add the preprocessing to this script.)\n",
    "\n",
    "\n",
    "## Goal\n",
    "\n",
    "We want to find a number of things from this data:\n",
    "- What percentage of charter schools received a \"Needs Improvement\" rating, compared to traditional public schools.\n",
    "- Which schools in Austin ISD received a \"Needs Improvement\" rating?\n",
    "- Which schools in Region 13 received a \"Needs Improvement\" rating?\n"
   ]
  },
  {
   "cell_type": "code",
   "execution_count": 1,
   "metadata": {
    "collapsed": true
   },
   "outputs": [],
   "source": [
    "import agate"
   ]
  },
  {
   "cell_type": "code",
   "execution_count": 5,
   "metadata": {
    "collapsed": true
   },
   "outputs": [],
   "source": [
    "# set column types\n",
    "specified_types = {\n",
    "      'District_ID': agate.Text(),\n",
    "      'Campus_ID': agate.Text(),\n",
    "      'REGION': agate.Text(),    \n",
    "  }\n",
    "\n",
    "# create table named raw from csv\n",
    "raw = agate.Table.from_csv('../data/2017-school-ratings.csv', column_types=specified_types)"
   ]
  },
  {
   "cell_type": "code",
   "execution_count": 6,
   "metadata": {
    "collapsed": false
   },
   "outputs": [
    {
     "name": "stdout",
     "output_type": "stream",
     "text": [
      "| column      | data_type |\n",
      "| ----------- | --------- |\n",
      "| DISTNAME    | Text      |\n",
      "| CAMPNAME    | Text      |\n",
      "| District_ID | Text      |\n",
      "| Campus_ID   | Text      |\n",
      "| REGION      | Text      |\n",
      "| CFLALTED    | Boolean   |\n",
      "| C_RATING    | Text      |\n",
      "| CI1         | Number    |\n",
      "| CI1_CUT     | Number    |\n",
      "| CI1_MET     | Text      |\n",
      "| CI2         | Number    |\n",
      "| CI2_CUT     | Number    |\n",
      "| CI2_MET     | Text      |\n",
      "| CI3         | Number    |\n",
      "| CI3_CUT     | Number    |\n",
      "| CI3_MET     | Text      |\n",
      "| CI4         | Number    |\n",
      "| CI4_CUT     | Number    |\n",
      "| CI4_MET     | Text      |\n",
      "\n"
     ]
    }
   ],
   "source": [
    "# print the column names and types\n",
    "print(raw)"
   ]
  },
  {
   "cell_type": "code",
   "execution_count": 13,
   "metadata": {
    "collapsed": false
   },
   "outputs": [
    {
     "name": "stdout",
     "output_type": "stream",
     "text": [
      "| DISTNAME             | CAMPNAME             | District_ID | Campus_ID | REGION | CFLALTED | ... |\n",
      "| -------------------- | -------------------- | ----------- | --------- | ------ | -------- | --- |\n",
      "| PINEYWOODS COMMUN... | PINEYWOODS COMMUN... | 003801      | 003801001 | 7      |    False | ... |\n",
      "| PINEYWOODS COMMUN... | DR TERRY ROBBINS ... | 003801      | 003801042 | 7      |    False | ... |\n",
      "| PINEYWOODS COMMUN... | SARAH STRINDEN EL    | 003801      | 003801103 | 7      |    False | ... |\n",
      "| ST MARY'S ACADEMY... | ST MARY'S ACADEMY... | 013801      | 013801101 | 2      |    False | ... |\n",
      "| RICHARD MILBURN A... | RICHARD MILBURN A... | 014801      | 014801001 | 20     |     True | ... |\n"
     ]
    }
   ],
   "source": [
    "# showing I can get charter schools\n",
    "# .where is the method. It returns whatever is true\n",
    "# we are feeding .where a test:\n",
    "#  For each row, look at 'Campus_ID' at the 4th position and if it is 8, it is true.\n",
    "#  If not 8, then it skips it.\n",
    "raw.where(lambda row: row['Campus_ID'][3] == '8').limit(5).print_table()"
   ]
  },
  {
   "cell_type": "code",
   "execution_count": 48,
   "metadata": {
    "collapsed": false
   },
   "outputs": [],
   "source": [
    "# this is a function for the .compute method below\n",
    "# it evaluates if the value sent it is '8', and if\n",
    "# so, then it returns 'Charter'. Of not, then 'Not charter'.\n",
    "def set_charter(value):\n",
    "    if value == '8':\n",
    "        return 'Charter'\n",
    "    else:\n",
    "        return 'Not charter'\n",
    "\n",
    "# We are creating a new column called 'charter'. To get the value to insert\n",
    "# for each row, we are feeding the 4th position of the 'Campus_ID' column\n",
    "# to the set_charter function, which is telling us what to put in, either\n",
    "# 'Charter' or 'Not charter'\n",
    "charter_set = raw.compute([\n",
    "  ('charter',\n",
    "   agate.Formula(agate.Text(),\n",
    "   lambda r: set_charter(r['Campus_ID'][3]))\n",
    "  )\n",
    "])"
   ]
  },
  {
   "cell_type": "code",
   "execution_count": 55,
   "metadata": {
    "collapsed": false
   },
   "outputs": [
    {
     "name": "stdout",
     "output_type": "stream",
     "text": [
      "| Campus_ID | charter     |\n",
      "| --------- | ----------- |\n",
      "| 001902001 | Not charter |\n",
      "| 001902041 | Not charter |\n",
      "| 001902103 | Not charter |\n",
      "| 001903001 | Not charter |\n",
      "| 001903041 | Not charter |\n"
     ]
    }
   ],
   "source": [
    "# peek at charter records\n",
    "charter_set.select([\n",
    "        'Campus_ID',\n",
    "        'charter'\n",
    "    ]).where(lambda row: row['Campus_ID'][3] == '8').limit(5).print_table()"
   ]
  },
  {
   "cell_type": "code",
   "execution_count": 56,
   "metadata": {
    "collapsed": false
   },
   "outputs": [
    {
     "name": "stdout",
     "output_type": "stream",
     "text": [
      "| Campus_ID | charter     |\n",
      "| --------- | ----------- |\n",
      "| 001902001 | Not charter |\n",
      "| 001902041 | Not charter |\n",
      "| 001902103 | Not charter |\n",
      "| 001903001 | Not charter |\n",
      "| 001903041 | Not charter |\n"
     ]
    }
   ],
   "source": [
    "# peek at non-charter records\n",
    "charter_set.select([\n",
    "        'Campus_ID',\n",
    "        'charter'\n",
    "    ]).where(lambda row: row['Campus_ID'][3] != '8').limit(5).print_table()"
   ]
  },
  {
   "cell_type": "markdown",
   "metadata": {},
   "source": [
    "## Create column of explained ratings"
   ]
  },
  {
   "cell_type": "code",
   "execution_count": 27,
   "metadata": {
    "collapsed": false
   },
   "outputs": [],
   "source": [
    "# These are the values for the rating.\n",
    "# C_RATING is on the left, the definition is on the right\n",
    "# M=Met Standard, A=Met Alternative Standard, I=Improvement Required, X/Z=Not Rated, T=Not Rated: Annexation\n",
    "rating_values = {\n",
    "    'I': 'Improvement required',\n",
    "    'M': 'Met standard',\n",
    "    'A': 'Met alternative standard',\n",
    "    'X': 'Not rated',\n",
    "    'Z': 'Not rated',\n",
    "    'T': 'Not Rated',\n",
    "    '': 'Not rated',\n",
    "}\n",
    "\n",
    "def map_rating(rating):\n",
    "    rating = rating.strip()\n",
    "    return rating_values[rating]\n",
    "\n",
    "rated = raw.compute([\n",
    "  ('mapped_rating',\n",
    "   agate.Formula(agate.Text(),\n",
    "   lambda r: map_rating(r['C_RATING']))\n",
    "  )\n",
    "])"
   ]
  },
  {
   "cell_type": "code",
   "execution_count": 28,
   "metadata": {
    "collapsed": false
   },
   "outputs": [
    {
     "name": "stdout",
     "output_type": "stream",
     "text": [
      "| mapped_rating |\n",
      "| ------------- |\n",
      "| Met standard  |\n",
      "| Met standard  |\n",
      "| Met standard  |\n",
      "| Met standard  |\n",
      "| Met standard  |\n",
      "| Met standard  |\n",
      "| Met standard  |\n",
      "| Met standard  |\n",
      "| Met standard  |\n",
      "| Met standard  |\n",
      "| Met standard  |\n",
      "| Met standard  |\n",
      "| Met standard  |\n",
      "| Met standard  |\n",
      "| Met standard  |\n",
      "| Met standard  |\n",
      "| Met standard  |\n",
      "| Met standard  |\n",
      "| Met standard  |\n",
      "| Met standard  |\n",
      "| ...           |\n"
     ]
    }
   ],
   "source": []
  },
  {
   "cell_type": "code",
   "execution_count": 31,
   "metadata": {
    "collapsed": false
   },
   "outputs": [
    {
     "data": {
      "text/plain": [
       "('A', 'I', 'X', 'Z', 'T', 'M')"
      ]
     },
     "execution_count": 31,
     "metadata": {},
     "output_type": "execute_result"
    }
   ],
   "source": [
    "rated.columns['C_RATING'].values_distinct()"
   ]
  },
  {
   "cell_type": "code",
   "execution_count": 30,
   "metadata": {
    "collapsed": false
   },
   "outputs": [
    {
     "data": {
      "text/plain": [
       "('Met standard',\n",
       " 'Not Rated',\n",
       " 'Improvement required',\n",
       " 'Met alternative standard',\n",
       " 'Not rated')"
      ]
     },
     "execution_count": 30,
     "metadata": {},
     "output_type": "execute_result"
    }
   ],
   "source": [
    "rated.columns['mapped_rating'].values_distinct()"
   ]
  },
  {
   "cell_type": "code",
   "execution_count": 25,
   "metadata": {
    "collapsed": false
   },
   "outputs": [
    {
     "ename": "AttributeError",
     "evalue": "'tuple' object has no attribute 'print_table'",
     "output_type": "error",
     "traceback": [
      "\u001b[0;31m---------------------------------------------------------------------------\u001b[0m",
      "\u001b[0;31mAttributeError\u001b[0m                            Traceback (most recent call last)",
      "\u001b[0;32m<ipython-input-25-22b4e608a8b5>\u001b[0m in \u001b[0;36m<module>\u001b[0;34m()\u001b[0m\n\u001b[0;32m----> 1\u001b[0;31m \u001b[0mtest\u001b[0m\u001b[0;34m.\u001b[0m\u001b[0mprint_table\u001b[0m\u001b[0;34m(\u001b[0m\u001b[0;34m)\u001b[0m\u001b[0;34m\u001b[0m\u001b[0m\n\u001b[0m",
      "\u001b[0;31mAttributeError\u001b[0m: 'tuple' object has no attribute 'print_table'"
     ]
    }
   ],
   "source": [
    "test.print_table()"
   ]
  },
  {
   "cell_type": "code",
   "execution_count": null,
   "metadata": {
    "collapsed": true
   },
   "outputs": [],
   "source": []
  }
 ],
 "metadata": {
  "kernelspec": {
   "display_name": "Python 3",
   "language": "python",
   "name": "python3"
  },
  "language_info": {
   "codemirror_mode": {
    "name": "ipython",
    "version": 3
   },
   "file_extension": ".py",
   "mimetype": "text/x-python",
   "name": "python",
   "nbconvert_exporter": "python",
   "pygments_lexer": "ipython3",
   "version": "3.5.2"
  }
 },
 "nbformat": 4,
 "nbformat_minor": 0
}
