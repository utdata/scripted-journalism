{
 "cells": [
  {
   "cell_type": "markdown",
   "metadata": {},
   "source": [
    "# Campus ratings\n",
    "\n",
    "## A scripted lesson\n",
    "\n",
    "This notebook takes my [Excel pivot table lesson](https://docs.google.com/document/d/1PRM1ozgbqkq69ZwpRue1ttho-FCHeKKR7Thybz6AAak/edit#heading=h.h6x8isam3qkn) and scripts it using agate.\n",
    "\n",
    "## About the data\n",
    "\n",
    "The Texas Education Agency rates public schools based on test scores and other factors. This lesson is based on the 2017 ratings released August 15, 2017. The file we are using, 2017-school-ratings.csv, is a version of the [downloadable data](https://rptsvr1.tea.texas.gov/perfreport/account/2017/download.html), but some processing has been done to cut down and rename the columns we need.\n",
    "\n",
    "(This data set is actually a bit contrived for the purposes of learning a couple of skills, so perhaps we can come back later and add the preprocessing to this script.)\n",
    "\n",
    "\n",
    "## Goal\n",
    "\n",
    "We want to find a number of things from this data:\n",
    "- What percentage of charter schools received a \"Needs Improvement\" rating, compared to traditional public schools.\n",
    "- Which schools in Austin ISD received a \"Needs Improvement\" rating?\n",
    "- Which schools in Region 13 received a \"Needs Improvement\" rating?\n"
   ]
  },
  {
   "cell_type": "code",
   "execution_count": 1,
   "metadata": {
    "collapsed": true
   },
   "outputs": [],
   "source": [
    "import agate"
   ]
  },
  {
   "cell_type": "code",
   "execution_count": 2,
   "metadata": {
    "collapsed": true
   },
   "outputs": [],
   "source": [
    "# set column types\n",
    "specified_types = {\n",
    "      'District_ID': agate.Text(),\n",
    "      'Campus_ID': agate.Text(),\n",
    "      'REGION': agate.Text(),    \n",
    "  }\n",
    "\n",
    "# create table named raw from csv\n",
    "raw = agate.Table.from_csv('../data/2017-school-ratings.csv', column_types=specified_types)"
   ]
  },
  {
   "cell_type": "code",
   "execution_count": 3,
   "metadata": {
    "collapsed": false
   },
   "outputs": [
    {
     "name": "stdout",
     "output_type": "stream",
     "text": [
      "| column      | data_type |\n",
      "| ----------- | --------- |\n",
      "| DISTNAME    | Text      |\n",
      "| CAMPNAME    | Text      |\n",
      "| District_ID | Text      |\n",
      "| Campus_ID   | Text      |\n",
      "| REGION      | Text      |\n",
      "| CFLALTED    | Boolean   |\n",
      "| C_RATING    | Text      |\n",
      "| CI1         | Number    |\n",
      "| CI1_CUT     | Number    |\n",
      "| CI1_MET     | Text      |\n",
      "| CI2         | Number    |\n",
      "| CI2_CUT     | Number    |\n",
      "| CI2_MET     | Text      |\n",
      "| CI3         | Number    |\n",
      "| CI3_CUT     | Number    |\n",
      "| CI3_MET     | Text      |\n",
      "| CI4         | Number    |\n",
      "| CI4_CUT     | Number    |\n",
      "| CI4_MET     | Text      |\n",
      "\n"
     ]
    }
   ],
   "source": [
    "# print the column names and types\n",
    "print(raw)"
   ]
  },
  {
   "cell_type": "code",
   "execution_count": 4,
   "metadata": {
    "collapsed": false
   },
   "outputs": [
    {
     "name": "stdout",
     "output_type": "stream",
     "text": [
      "| DISTNAME    | CAMPNAME       | District_ID | Campus_ID | REGION | CFLALTED | ... |\n",
      "| ----------- | -------------- | ----------- | --------- | ------ | -------- | --- |\n",
      "| CAYUGA ISD  | CAYUGA H S     | 001902      | 001902001 | 7      |    False | ... |\n",
      "| CAYUGA ISD  | CAYUGA MIDDLE  | 001902      | 001902041 | 7      |    False | ... |\n",
      "| CAYUGA ISD  | CAYUGA EL      | 001902      | 001902103 | 7      |    False | ... |\n",
      "| ELKHART ISD | ELKHART H S    | 001903      | 001903001 | 7      |    False | ... |\n",
      "| ELKHART ISD | ELKHART MIDDLE | 001903      | 001903041 | 7      |    False | ... |\n"
     ]
    }
   ],
   "source": [
    "# looking at the first 5 records in the table\n",
    "raw.limit(5).print_table()"
   ]
  },
  {
   "cell_type": "markdown",
   "metadata": {},
   "source": [
    "## Creating a column for charter status\n",
    "\n",
    "In this data set, we have to use part of the `Campus_ID` field to figure out if a campus is a charter school or not. We look at the fourth character and evaluate if it is an '8', which is a charter school, or a '9', which means it is not. Python starts counting at 0, so that is why we use [3] as our value. "
   ]
  },
  {
   "cell_type": "code",
   "execution_count": 5,
   "metadata": {
    "collapsed": false
   },
   "outputs": [
    {
     "name": "stdout",
     "output_type": "stream",
     "text": [
      "| DISTNAME             | CAMPNAME             | District_ID | Campus_ID | REGION | CFLALTED | ... |\n",
      "| -------------------- | -------------------- | ----------- | --------- | ------ | -------- | --- |\n",
      "| PINEYWOODS COMMUN... | PINEYWOODS COMMUN... | 003801      | 003801001 | 7      |    False | ... |\n",
      "| PINEYWOODS COMMUN... | DR TERRY ROBBINS ... | 003801      | 003801042 | 7      |    False | ... |\n",
      "| PINEYWOODS COMMUN... | SARAH STRINDEN EL    | 003801      | 003801103 | 7      |    False | ... |\n",
      "| ST MARY'S ACADEMY... | ST MARY'S ACADEMY... | 013801      | 013801101 | 2      |    False | ... |\n",
      "| RICHARD MILBURN A... | RICHARD MILBURN A... | 014801      | 014801001 | 20     |     True | ... |\n"
     ]
    }
   ],
   "source": [
    "# showing I can get charter schools\n",
    "# .where is the method. It returns whatever is true\n",
    "# we are feeding .where a test:\n",
    "#  For each row, look at 'Campus_ID' at the 4th position and if it is 8, it is true.\n",
    "#  If not 8, then it skips it.\n",
    "raw.where(lambda row: row['Campus_ID'][3] == '8').limit(5).print_table()"
   ]
  },
  {
   "cell_type": "code",
   "execution_count": 6,
   "metadata": {
    "collapsed": false
   },
   "outputs": [],
   "source": [
    "# this is a function for the .compute method below\n",
    "# it evaluates if the value sent it is '8', and if\n",
    "# so, then it returns 'Charter'. Of not, then 'Not charter'.\n",
    "def set_charter_column(value):\n",
    "    if value == '8':\n",
    "        return 'Charter'\n",
    "    else:\n",
    "        return 'Not charter'\n",
    "\n",
    "# We are creating a new column called 'charter'. To get the value to insert\n",
    "# for each row, we are feeding the 4th position of the 'Campus_ID' column\n",
    "# to the set_charter function, which is telling us what to put in, either\n",
    "# 'Charter' or 'Not charter'\n",
    "# We put this all into a new table \n",
    "charter_set = raw.compute([\n",
    "  ('Charter', # the name of the new column\n",
    "   agate.Formula(agate.Text(),\n",
    "   lambda r: set_charter_column(r['Campus_ID'][3]))\n",
    "  )\n",
    "])"
   ]
  },
  {
   "cell_type": "code",
   "execution_count": 7,
   "metadata": {
    "collapsed": false
   },
   "outputs": [
    {
     "name": "stdout",
     "output_type": "stream",
     "text": [
      "| Campus_ID | Charter |\n",
      "| --------- | ------- |\n",
      "| 003801001 | Charter |\n",
      "| 003801042 | Charter |\n",
      "| 003801103 | Charter |\n",
      "| 013801101 | Charter |\n",
      "| 014801001 | Charter |\n"
     ]
    }
   ],
   "source": [
    "# peek at charter records\n",
    "charter_set.select([\n",
    "        'Campus_ID',\n",
    "        'Charter'\n",
    "    ]).where(lambda row: row['Campus_ID'][3] == '8').limit(5).print_table()"
   ]
  },
  {
   "cell_type": "code",
   "execution_count": 8,
   "metadata": {
    "collapsed": false
   },
   "outputs": [
    {
     "name": "stdout",
     "output_type": "stream",
     "text": [
      "| Campus_ID | Charter     |\n",
      "| --------- | ----------- |\n",
      "| 001902001 | Not charter |\n",
      "| 001902041 | Not charter |\n",
      "| 001902103 | Not charter |\n",
      "| 001903001 | Not charter |\n",
      "| 001903041 | Not charter |\n"
     ]
    }
   ],
   "source": [
    "# peek at non-charter records\n",
    "charter_set.select([\n",
    "        'Campus_ID',\n",
    "        'Charter'\n",
    "    ]).where(lambda row: row['Campus_ID'][3] != '8').limit(5).print_table()"
   ]
  },
  {
   "cell_type": "markdown",
   "metadata": {},
   "source": [
    "## Create column of explained ratings"
   ]
  },
  {
   "cell_type": "code",
   "execution_count": 9,
   "metadata": {
    "collapsed": false
   },
   "outputs": [],
   "source": [
    "# These are the values for the rating.\n",
    "# C_RATING is on the left, the definition is on the right\n",
    "# M=Met Standard, A=Met Alternative Standard, I=Improvement Required, X/Z=Not Rated, T=Not Rated: Annexation\n",
    "rating_values = {\n",
    "    'I': 'Improvement required',\n",
    "    'M': 'Met standard',\n",
    "    'A': 'Met alternative standard',\n",
    "    'X': 'Not rated',\n",
    "    'Z': 'Not rated',\n",
    "    'T': 'Not rated',\n",
    "    '': 'Not rated',\n",
    "}\n",
    "\n",
    "def map_rating(rating):\n",
    "    rating = rating.strip()\n",
    "    return rating_values[rating]\n",
    "\n",
    "rating_set = charter_set.compute([\n",
    "  ('Rating',\n",
    "   agate.Formula(agate.Text(),\n",
    "   lambda r: map_rating(r['C_RATING']))\n",
    "  )\n",
    "])"
   ]
  },
  {
   "cell_type": "markdown",
   "metadata": {},
   "source": [
    "# Filter out campuses we don't want\n",
    "\n",
    "We don't want to consider campuses that use the alternative standard, so let's filter those out."
   ]
  },
  {
   "cell_type": "code",
   "execution_count": 10,
   "metadata": {
    "collapsed": false
   },
   "outputs": [
    {
     "name": "stdout",
     "output_type": "stream",
     "text": [
      "number of all campuses: 8757\n",
      "number after filtering: 7951\n",
      "distinct values in Ratings now: ('Met standard', 'Improvement required')\n"
     ]
    }
   ],
   "source": [
    "rating_filtered = rating_set.where(\n",
    "    lambda row: row['Rating'] in ('Met standard', 'Improvement required')\n",
    ")\n",
    "\n",
    "print('number of all campuses: {}'.format(len(rating_set)))\n",
    "print('number after filtering: {}'.format(len(rating_filtered)))\n",
    "print('distinct values in Ratings now: {}'.format(\n",
    "        rating_filtered.columns['Rating'].values_distinct()\n",
    "    ))"
   ]
  },
  {
   "cell_type": "code",
   "execution_count": 11,
   "metadata": {
    "collapsed": false
   },
   "outputs": [
    {
     "name": "stdout",
     "output_type": "stream",
     "text": [
      "Number before filter: 7951\n",
      "Number after filter: 7932\n"
     ]
    }
   ],
   "source": [
    "# filter where CFLALTED is not true\n",
    "alts_removed = rating_filtered.where(\n",
    "    lambda row: row['CFLALTED'] is False\n",
    ")\n",
    "print('Number before filter: {}'.format(len(rating_filtered)))\n",
    "print('Number after filter: {}'.format(len(alts_removed)))"
   ]
  },
  {
   "cell_type": "markdown",
   "metadata": {},
   "source": [
    "## Analysis time\n",
    "\n",
    "Now that we have our data in all filtered, we'll set our new table and start working with it."
   ]
  },
  {
   "cell_type": "code",
   "execution_count": 12,
   "metadata": {
    "collapsed": true
   },
   "outputs": [],
   "source": [
    "# our final table for analysis\n",
    "campus = alts_removed"
   ]
  },
  {
   "cell_type": "code",
   "execution_count": 13,
   "metadata": {
    "collapsed": false
   },
   "outputs": [
    {
     "name": "stdout",
     "output_type": "stream",
     "text": [
      "| Charter     | Met standard | Improvement required |\n",
      "| ----------- | ------------ | -------------------- |\n",
      "| Not charter |        7,138 |                  310 |\n",
      "| Charter     |          442 |                   42 |\n"
     ]
    }
   ],
   "source": [
    "# pivot the table based charter and rating to see the number of records\n",
    "campus_pivot = campus.pivot('Charter', 'Rating')\n",
    "campus_pivot.print_table()"
   ]
  },
  {
   "cell_type": "code",
   "execution_count": 14,
   "metadata": {
    "collapsed": false
   },
   "outputs": [
    {
     "name": "stdout",
     "output_type": "stream",
     "text": [
      "| Charter     | Met standard | Improvement required | Fail rate |\n",
      "| ----------- | ------------ | -------------------- | --------- |\n",
      "| Not charter |        7,138 |                  310 |    4.162… |\n",
      "| Charter     |          442 |                   42 |    8.678… |\n"
     ]
    }
   ],
   "source": [
    "# function to create fail rate: part / total * 100\n",
    "def pass_rate(row):\n",
    "    return ((row['Improvement required'] / (row['Met standard'] + row['Improvement required'])) *100)\n",
    "\n",
    "# Create new column with fail rate\n",
    "campus_charter_rate = campus_pivot.compute([\n",
    "    ('Fail rate', agate.Formula(agate.Number(), pass_rate))\n",
    "])\n",
    "\n",
    "# print the new table\n",
    "campus_charter_rate.print_table()"
   ]
  },
  {
   "cell_type": "markdown",
   "metadata": {},
   "source": [
    "## Next: Filter to see Austin schools that failed"
   ]
  },
  {
   "cell_type": "code",
   "execution_count": 15,
   "metadata": {
    "collapsed": false
   },
   "outputs": [
    {
     "name": "stdout",
     "output_type": "stream",
     "text": [
      "117\n"
     ]
    }
   ],
   "source": [
    "# Get just the austin schools\n",
    "austin = campus.where(lambda row: row['DISTNAME'] == 'AUSTIN ISD')\n",
    "print(len(austin))"
   ]
  },
  {
   "cell_type": "code",
   "execution_count": 16,
   "metadata": {
    "collapsed": false
   },
   "outputs": [
    {
     "name": "stdout",
     "output_type": "stream",
     "text": [
      "| Charter     | Met standard | Improvement required |\n",
      "| ----------- | ------------ | -------------------- |\n",
      "| Not charter |          113 |                    4 |\n"
     ]
    }
   ],
   "source": [
    "austin_pivot = austin.pivot('Charter', 'Rating')\n",
    "austin_pivot.print_table()"
   ]
  },
  {
   "cell_type": "code",
   "execution_count": 17,
   "metadata": {
    "collapsed": false
   },
   "outputs": [
    {
     "name": "stdout",
     "output_type": "stream",
     "text": [
      "| CAMPNAME      | Rating               | CI1_MET | CI2_MET | CI3_MET | CI4_MET |\n",
      "| ------------- | -------------------- | ------- | ------- | ------- | ------- |\n",
      "| BURNET M S    | Improvement required | N       | N       | N       | Y       |\n",
      "| MARTIN MIDDLE | Improvement required | N       | N       | Y       | Y       |\n",
      "| MENDEZ M S    | Improvement required | N       | N       | N       | N       |\n",
      "| GOVALLE EL    | Improvement required | N       | Y       | N       | Y       |\n"
     ]
    }
   ],
   "source": [
    "austin_failed = austin.where(lambda row: row['Rating'] == 'Improvement required')\n",
    "\n",
    "columns_list = [\n",
    "    'CAMPNAME',\n",
    "    'Rating',\n",
    "    'CI1_MET',\n",
    "    'CI2_MET',\n",
    "    'CI3_MET',\n",
    "    'CI4_MET',\n",
    "]\n",
    "\n",
    "austin_failed.select(columns_list).print_table()"
   ]
  },
  {
   "cell_type": "markdown",
   "metadata": {},
   "source": [
    "## Region 13 failings"
   ]
  },
  {
   "cell_type": "code",
   "execution_count": 18,
   "metadata": {
    "collapsed": false
   },
   "outputs": [
    {
     "name": "stdout",
     "output_type": "stream",
     "text": [
      "532\n"
     ]
    }
   ],
   "source": [
    "region = campus.where(lambda row: row['REGION'] == '13')\n",
    "print(len(region))"
   ]
  },
  {
   "cell_type": "code",
   "execution_count": 19,
   "metadata": {
    "collapsed": false
   },
   "outputs": [
    {
     "name": "stdout",
     "output_type": "stream",
     "text": [
      "| Charter     | Met standard | Improvement required |\n",
      "| ----------- | ------------ | -------------------- |\n",
      "| Not charter |          475 |                   20 |\n",
      "| Charter     |           35 |                    2 |\n"
     ]
    }
   ],
   "source": [
    "region_pivot = region.pivot('Charter', 'Rating')\n",
    "region_pivot.print_table()"
   ]
  },
  {
   "cell_type": "code",
   "execution_count": 20,
   "metadata": {
    "collapsed": false
   },
   "outputs": [
    {
     "name": "stdout",
     "output_type": "stream",
     "text": [
      "| DISTNAME                 | CAMPNAME                          | Charter     | CI1_MET | CI2_MET | CI3_MET | ... |\n",
      "| ------------------------ | --------------------------------- | ----------- | ------- | ------- | ------- | --- |\n",
      "| AUSTIN ISD               | BURNET M S                        | Not charter | N       | N       | N       | ... |\n",
      "| AUSTIN ISD               | GOVALLE EL                        | Not charter | N       | Y       | N       | ... |\n",
      "| AUSTIN ISD               | MARTIN MIDDLE                     | Not charter | N       | N       | Y       | ... |\n",
      "| AUSTIN ISD               | MENDEZ M S                        | Not charter | N       | N       | N       | ... |\n",
      "| BARTLETT ISD             | BARTLETT SCHOOLS                  | Not charter | N       | Y       | N       | ... |\n",
      "| DIME BOX ISD             | DIME BOX SCHOOL                   | Not charter | N       | Y       | N       | ... |\n",
      "| ELGIN ISD                | BOOKER T WASHINGTON EL            | Not charter | N       | Y       | N       | ... |\n",
      "| ELGIN ISD                | ELGIN EL                          | Not charter | N       | Y       | N       | ... |\n",
      "| GEORGETOWN ISD           | ANNIE PURL EL                     | Not charter | P       | P       | P       | ... |\n",
      "| GEORGETOWN ISD           | JAMES E MITCHELL EL               | Not charter | N       | N       | N       | ... |\n",
      "| GEORGETOWN ISD           | PAT COOPER EL                     | Not charter | Y       | Y       | N       | ... |\n",
      "| GEORGETOWN ISD           | WILLIAMS EL                       | Not charter | Y       | Y       | N       | ... |\n",
      "| HAYS CISD                | HEMPHILL EL                       | Not charter | N       | Y       | N       | ... |\n",
      "| HAYS CISD                | SCIENCE HALL EL                   | Not charter | N       | Y       | N       | ... |\n",
      "| LOCKHART ISD             | ALMA BREWER STRAWN EL             | Not charter | N       | Y       | N       | ... |\n",
      "| LOCKHART ISD             | BLUEBONNET EL                     | Not charter | N       | Y       | N       | ... |\n",
      "| LULING ISD               | LULING EL                         | Not charter | N       | Y       | N       | ... |\n",
      "| LULING ISD               | LULING PRI                        | Not charter | P       | P       | P       | ... |\n",
      "| MANOR ISD                | MANOR MIDDLE                      | Not charter | N       | N       | N       | ... |\n",
      "| MONTESSORI FOR ALL       | MAGNOLIA MONTESSORI FOR ALL       | Charter     | Y       | Y       | N       | ... |\n",
      "| PRAIRIE LEA ISD          | PRAIRIE LEA SCHOOL                | Not charter | N       | Y       | N       | ... |\n",
      "| TEXAS PREPARATORY SCHOOL | TEXAS PREPARATORY SCHOOL - AUSTIN | Charter     | N       | Y       | Y       | ... |\n"
     ]
    }
   ],
   "source": [
    "region_failed = region.where(lambda row: row['Rating'] == 'Improvement required')\n",
    "\n",
    "region_columns_list = [\n",
    "    'DISTNAME',\n",
    "    'CAMPNAME',\n",
    "    'Charter',\n",
    "    'CI1_MET',\n",
    "    'CI2_MET',\n",
    "    'CI3_MET',\n",
    "    'CI4_MET',\n",
    "]\n",
    "\n",
    "region_sorted = region_failed.select(region_columns_list).order_by(lambda row: (row['DISTNAME'], row['CAMPNAME']))\n",
    "\n",
    "region_sorted.print_table(max_rows=None, max_column_width=50)"
   ]
  },
  {
   "cell_type": "code",
   "execution_count": null,
   "metadata": {
    "collapsed": true
   },
   "outputs": [],
   "source": []
  }
 ],
 "metadata": {
  "kernelspec": {
   "display_name": "Python 3",
   "language": "python",
   "name": "python3"
  },
  "language_info": {
   "codemirror_mode": {
    "name": "ipython",
    "version": 3
   },
   "file_extension": ".py",
   "mimetype": "text/x-python",
   "name": "python",
   "nbconvert_exporter": "python",
   "pygments_lexer": "ipython3",
   "version": "3.5.2"
  }
 },
 "nbformat": 4,
 "nbformat_minor": 0
}
