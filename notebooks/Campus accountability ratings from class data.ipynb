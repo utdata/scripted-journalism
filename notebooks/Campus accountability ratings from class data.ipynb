{
 "cells": [
  {
   "cell_type": "markdown",
   "metadata": {},
   "source": [
    "# Campus ratings\n",
    "\n",
    "## A scripted lesson\n",
    "\n",
    "This notebook takes my [Excel pivot table lesson](https://docs.google.com/document/d/1PRM1ozgbqkq69ZwpRue1ttho-FCHeKKR7Thybz6AAak/edit#heading=h.h6x8isam3qkn) and scripts it using agate. THIS VERSION USES EXACTLY THE SAME DATA AS THE EXCEL LESSON.\n",
    "\n",
    "## About the data\n",
    "\n",
    "The Texas Education Agency rates public schools based on test scores and other factors. This lesson is based on the 2017 ratings released August 15, 2017. THE DATA FILE HAS BEEN CUT DOWN TO MATCH THE EXCEL CLASS DATA.\n",
    "\n",
    "This file has been stored in the `/data/` folder.\n",
    "\n",
    "## Goal\n",
    "\n",
    "We want to find a number of things from this data:\n",
    "- What percentage of charter schools received a \"Needs Improvement\" rating, compared to traditional public schools.\n",
    "- Which schools in Austin ISD received a \"Needs Improvement\" rating?\n",
    "- Which schools in Region 13 received a \"Needs Improvement\" rating?\n"
   ]
  },
  {
   "cell_type": "code",
   "execution_count": 1,
   "metadata": {},
   "outputs": [],
   "source": [
    "import agate\n",
    "import warnings\n",
    "warnings.filterwarnings('ignore')"
   ]
  },
  {
   "cell_type": "code",
   "execution_count": 2,
   "metadata": {},
   "outputs": [],
   "source": [
    "# this list of types was build from the field definitions referenced above\n",
    "specified_type = {\n",
    "  'DISTNAME': agate.Text(),\n",
    "  'CAMPNAME': agate.Text(),\n",
    "  'District_ID': agate.Text(),\n",
    "  'Campus_ID': agate.Text(),\n",
    "  'REGION': agate.Text(),\n",
    "  'CFLALTED': agate.Text(),\n",
    "  'C_RATING': agate.Text(),\n",
    "  'CI1': agate.Number(),\n",
    "  'CI1_CUT': agate.Number(),\n",
    "  'CI1_MET': agate.Text(),\n",
    "  'CI2': agate.Number(),\n",
    "  'CI2_CUT': agate.Number(),\n",
    "  'CI2_MET': agate.Text(),\n",
    "  'CI3': agate.Number(),\n",
    "  'CI3_CUT': agate.Number(),\n",
    "  'CI3_MET': agate.Text(),\n",
    "  'CI4': agate.Number(),\n",
    "  'CI4_CUT': agate.Number(),\n",
    "  'CI4_MET': agate.Text(),\n",
    "}\n",
    "\n",
    "# import the raw data\n",
    "raw = agate.Table.from_csv('../data/2017-school-ratings.csv',column_types=specified_type)\n"
   ]
  },
  {
   "cell_type": "code",
   "execution_count": 3,
   "metadata": {},
   "outputs": [
    {
     "name": "stdout",
     "output_type": "stream",
     "text": [
      "| column      | data_type |\n",
      "| ----------- | --------- |\n",
      "| DISTNAME    | Text      |\n",
      "| CAMPNAME    | Text      |\n",
      "| District_ID | Text      |\n",
      "| Campus_ID   | Text      |\n",
      "| REGION      | Text      |\n",
      "| CFLALTED    | Text      |\n",
      "| C_RATING    | Text      |\n",
      "| CI1         | Number    |\n",
      "| CI1_CUT     | Number    |\n",
      "| CI1_MET     | Text      |\n",
      "| CI2         | Number    |\n",
      "| CI2_CUT     | Number    |\n",
      "| CI2_MET     | Text      |\n",
      "| CI3         | Number    |\n",
      "| CI3_CUT     | Number    |\n",
      "| CI3_MET     | Text      |\n",
      "| CI4         | Number    |\n",
      "| CI4_CUT     | Number    |\n",
      "| CI4_MET     | Text      |\n",
      "\n"
     ]
    }
   ],
   "source": [
    "# print columns\n",
    "print(raw)"
   ]
  },
  {
   "cell_type": "markdown",
   "metadata": {},
   "source": [
    "THIS IS WHERE I STOPPED. NEED TO LOOK AT POSITION TO GET CHARTER STATUS"
   ]
  },
  {
   "cell_type": "markdown",
   "metadata": {},
   "source": [
    "## Creating a column for charter status\n",
    "\n",
    "In this data set, we have to use part of the `Campus_ID` field to figure out if a campus is a charter school or not. We look at the fourth character and evaluate if it is an '8', which is a charter school, or a '9', which means it is not. Python starts counting at 0, so that is why we use [3] as our value. "
   ]
  },
  {
   "cell_type": "code",
   "execution_count": 4,
   "metadata": {},
   "outputs": [],
   "source": [
    "# this is a function for the .compute method below\n",
    "# it evaluates if the value sent it is '8', and if\n",
    "# so, then it returns 'Charter'. Of not, then 'Not charter'.\n",
    "def set_charter_column(value):\n",
    "    if value == '8':\n",
    "        return 'Charter'\n",
    "    else:\n",
    "        return 'Not charter'\n",
    "\n",
    "# We are creating a new column called 'charter'. To get the value to insert\n",
    "# for each row, we are feeding the 4th position of the 'Campus_ID' column\n",
    "# to the set_charter function, which is telling us what to put in, either\n",
    "# 'Charter' or 'Not charter'\n",
    "# We put this all into a new table \n",
    "charter_set = raw.compute([\n",
    "  ('CHARTER', # the name of the new column\n",
    "   agate.Formula(agate.Text(),\n",
    "   lambda r: set_charter_column(r['Campus_ID'][3]))\n",
    "  )\n",
    "])"
   ]
  },
  {
   "cell_type": "code",
   "execution_count": 5,
   "metadata": {},
   "outputs": [
    {
     "name": "stdout",
     "output_type": "stream",
     "text": [
      "| CAMPNAME                           | CHARTER |\n",
      "| ---------------------------------- | ------- |\n",
      "| PINEYWOODS COMMUNITY ACADEMY H S   | Charter |\n",
      "| DR TERRY ROBBINS MIDDLE            | Charter |\n",
      "| SARAH STRINDEN EL                  | Charter |\n",
      "| ST MARY'S ACADEMY CHARTER SCHOOL   | Charter |\n",
      "| RICHARD MILBURN ALTER H S (KILLEEN | Charter |\n"
     ]
    }
   ],
   "source": [
    "# peek at charter records\n",
    "charter_set.where(lambda row: row['CHARTER'] == 'Charter').select([\n",
    "        'CAMPNAME',\n",
    "        'CHARTER'\n",
    "    ]).limit(5).print_table(max_column_width=None)"
   ]
  },
  {
   "cell_type": "code",
   "execution_count": 6,
   "metadata": {},
   "outputs": [
    {
     "name": "stdout",
     "output_type": "stream",
     "text": [
      "| CAMPNAME       | CHARTER     |\n",
      "| -------------- | ----------- |\n",
      "| CAYUGA H S     | Not charter |\n",
      "| CAYUGA MIDDLE  | Not charter |\n",
      "| CAYUGA EL      | Not charter |\n",
      "| ELKHART H S    | Not charter |\n",
      "| ELKHART MIDDLE | Not charter |\n"
     ]
    }
   ],
   "source": [
    "# peek at non-charter records\n",
    "charter_set.where(lambda row: row['CHARTER'] == 'Not charter').select([\n",
    "        'CAMPNAME',\n",
    "        'CHARTER'\n",
    "    ]).limit(5).print_table(max_column_width=None)"
   ]
  },
  {
   "cell_type": "markdown",
   "metadata": {},
   "source": [
    "## Create column of explained ratings"
   ]
  },
  {
   "cell_type": "code",
   "execution_count": 7,
   "metadata": {},
   "outputs": [],
   "source": [
    "# These are the values for the rating.\n",
    "# C_RATING is on the left, the definition is on the right\n",
    "# M=Met Standard, A=Met Alternative Standard, I=Improvement Required, X/Z=Not Rated, T=Not Rated: Annexation\n",
    "rating_values = {\n",
    "    'I': 'Improvement required',\n",
    "    'M': 'Met standard',\n",
    "    'A': 'Met alternative standard',\n",
    "    'X': 'Not rated',\n",
    "    'Z': 'Not rated',\n",
    "    'T': 'Not rated',\n",
    "    '': 'Not rated',\n",
    "}\n",
    "\n",
    "def map_rating(rating):\n",
    "    rating = rating.strip()\n",
    "    return rating_values[rating]\n",
    "\n",
    "rating_set = charter_set.compute([\n",
    "  ('RATING',\n",
    "   agate.Formula(agate.Text(),\n",
    "   lambda r: map_rating(r['C_RATING']))\n",
    "  )\n",
    "])"
   ]
  },
  {
   "cell_type": "markdown",
   "metadata": {},
   "source": [
    "# Filter out campuses we don't want\n",
    "\n",
    "We don't want to consider campuses that use the alternative standard, so let's filter those out."
   ]
  },
  {
   "cell_type": "code",
   "execution_count": 8,
   "metadata": {},
   "outputs": [
    {
     "name": "stdout",
     "output_type": "stream",
     "text": [
      "number of all campuses: 8757\n",
      "number after filtering: 7951\n",
      "distinct values in Ratings now: ('Improvement required', 'Met standard')\n"
     ]
    }
   ],
   "source": [
    "rating_filtered = rating_set.where(\n",
    "    lambda row: row['RATING'] in ('Met standard', 'Improvement required')\n",
    ")\n",
    "\n",
    "print('number of all campuses: {}'.format(len(rating_set)))\n",
    "print('number after filtering: {}'.format(len(rating_filtered)))\n",
    "print('distinct values in Ratings now: {}'.format(\n",
    "        rating_filtered.columns['RATING'].values_distinct()\n",
    "    ))"
   ]
  },
  {
   "cell_type": "code",
   "execution_count": 9,
   "metadata": {},
   "outputs": [
    {
     "name": "stdout",
     "output_type": "stream",
     "text": [
      "Number before filter: 7951\n",
      "Number after filter: 7932\n"
     ]
    }
   ],
   "source": [
    "# filter where CFLALTED is not true\n",
    "alts_removed = rating_filtered.where(\n",
    "    lambda row: row['CFLALTED'] == 'False'\n",
    ")\n",
    "print('Number before filter: {}'.format(len(rating_filtered)))\n",
    "print('Number after filter: {}'.format(len(alts_removed)))"
   ]
  },
  {
   "cell_type": "code",
   "execution_count": 10,
   "metadata": {},
   "outputs": [
    {
     "name": "stdout",
     "output_type": "stream",
     "text": [
      "| column      | data_type |\n",
      "| ----------- | --------- |\n",
      "| DISTNAME    | Text      |\n",
      "| CAMPNAME    | Text      |\n",
      "| District_ID | Text      |\n",
      "| Campus_ID   | Text      |\n",
      "| REGION      | Text      |\n",
      "| CFLALTED    | Text      |\n",
      "| C_RATING    | Text      |\n",
      "| CI1         | Number    |\n",
      "| CI1_CUT     | Number    |\n",
      "| CI1_MET     | Text      |\n",
      "| CI2         | Number    |\n",
      "| CI2_CUT     | Number    |\n",
      "| CI2_MET     | Text      |\n",
      "| CI3         | Number    |\n",
      "| CI3_CUT     | Number    |\n",
      "| CI3_MET     | Text      |\n",
      "| CI4         | Number    |\n",
      "| CI4_CUT     | Number    |\n",
      "| CI4_MET     | Text      |\n",
      "| CHARTER     | Text      |\n",
      "| RATING      | Text      |\n",
      "\n"
     ]
    }
   ],
   "source": [
    "print(alts_removed)"
   ]
  },
  {
   "cell_type": "markdown",
   "metadata": {},
   "source": [
    "## Analysis time\n",
    "\n",
    "Now that we have our data in all filtered, we'll set our new table and start working with it."
   ]
  },
  {
   "cell_type": "code",
   "execution_count": 11,
   "metadata": {},
   "outputs": [],
   "source": [
    "# our final table for analysis\n",
    "# campus_columns = [\n",
    "#     'CAMPUS',\n",
    "#     'CAMPNAME',\n",
    "#     'GRDTYPE',\n",
    "#     'DISTNAME',\n",
    "#     'DISTRICT',\n",
    "#     'CNTYNAME',\n",
    "#     'REGNNAME',\n",
    "#     'REGION',\n",
    "#     'CHARTER',\n",
    "#     'RATING',\n",
    "#     'C_YRS_IR',\n",
    "#     'CFLCHART',\n",
    "#     'CI1_MET',\n",
    "#     'CI2_MET',\n",
    "#     'CI3_MET',\n",
    "#     'CI4_MET',\n",
    "#     'CPETECHP',\n",
    "#     'CPETECOP',\n",
    "#     'CPETLEPP',\n",
    "#     'CPETSPEP',\n",
    "#     'CPETALLC',\n",
    "# ]\n",
    "\n",
    "campus = alts_removed"
   ]
  },
  {
   "cell_type": "code",
   "execution_count": 12,
   "metadata": {},
   "outputs": [
    {
     "name": "stdout",
     "output_type": "stream",
     "text": [
      "| CHARTER     | Met standard | Improvement required |\n",
      "| ----------- | ------------ | -------------------- |\n",
      "| Not charter |        7,138 |                  310 |\n",
      "| Charter     |          442 |                   42 |\n"
     ]
    }
   ],
   "source": [
    "# pivot the table based charter and rating to see the number of records\n",
    "campus_pivot = campus.pivot('CHARTER', 'RATING')\n",
    "campus_pivot.print_table()"
   ]
  },
  {
   "cell_type": "code",
   "execution_count": 13,
   "metadata": {},
   "outputs": [],
   "source": [
    "# function to create fail rate: part / total * 100\n",
    "def pass_rate(row):\n",
    "    return ((row['Improvement required'] / (row['Met standard'] + row['Improvement required'])) *100)"
   ]
  },
  {
   "cell_type": "code",
   "execution_count": 14,
   "metadata": {},
   "outputs": [
    {
     "name": "stdout",
     "output_type": "stream",
     "text": [
      "| CHARTER     | Met standard | Improvement required | Fail rate |\n",
      "| ----------- | ------------ | -------------------- | --------- |\n",
      "| Not charter |        7,138 |                  310 |    4.162… |\n",
      "| Charter     |          442 |                   42 |    8.678… |\n"
     ]
    }
   ],
   "source": [
    "# Create new column with fail rate\n",
    "campus_charter_rate = campus_pivot.compute([\n",
    "    ('Fail rate', agate.Formula(agate.Number(), pass_rate))\n",
    "])\n",
    "\n",
    "# print the new table\n",
    "campus_charter_rate.print_table()"
   ]
  },
  {
   "cell_type": "markdown",
   "metadata": {},
   "source": [
    "## Next: Filter to see Austin ISD schools that failed"
   ]
  },
  {
   "cell_type": "code",
   "execution_count": 15,
   "metadata": {},
   "outputs": [
    {
     "name": "stdout",
     "output_type": "stream",
     "text": [
      "117\n"
     ]
    }
   ],
   "source": [
    "# Get just the austin schools\n",
    "austin = campus.where(lambda row: row['DISTNAME'] == 'AUSTIN ISD')\n",
    "print(len(austin))"
   ]
  },
  {
   "cell_type": "code",
   "execution_count": 16,
   "metadata": {},
   "outputs": [
    {
     "name": "stdout",
     "output_type": "stream",
     "text": [
      "| CHARTER     | Met standard | Improvement required |\n",
      "| ----------- | ------------ | -------------------- |\n",
      "| Not charter |          113 |                    4 |\n"
     ]
    }
   ],
   "source": [
    "# Show the number of schools\n",
    "austin_pivot = austin.pivot('CHARTER', 'RATING')\n",
    "austin_pivot.print_table()"
   ]
  },
  {
   "cell_type": "code",
   "execution_count": 17,
   "metadata": {},
   "outputs": [
    {
     "name": "stdout",
     "output_type": "stream",
     "text": [
      "| CAMPNAME      | DISTNAME   | CI1_MET | CI2_MET | CI3_MET | CI4_MET |\n",
      "| ------------- | ---------- | ------- | ------- | ------- | ------- |\n",
      "| BURNET M S    | AUSTIN ISD | N       | N       | N       | Y       |\n",
      "| MARTIN MIDDLE | AUSTIN ISD | N       | N       | Y       | Y       |\n",
      "| MENDEZ M S    | AUSTIN ISD | N       | N       | N       | N       |\n",
      "| GOVALLE EL    | AUSTIN ISD | N       | Y       | N       | Y       |\n"
     ]
    }
   ],
   "source": [
    "# filter the austin list to failed schools\n",
    "austin_failed = austin.where(lambda row: row['RATING'] == 'Improvement required')\n",
    "\n",
    "# columns for fail print list\n",
    "columns_fail_list = [\n",
    "    'CAMPNAME',\n",
    "    'DISTNAME',\n",
    "    'CI1_MET',\n",
    "    'CI2_MET',\n",
    "    'CI3_MET',\n",
    "    'CI4_MET',\n",
    "]\n",
    "\n",
    "# print the list of schools\n",
    "austin_failed.select(columns_fail_list).print_table(max_columns=None)"
   ]
  },
  {
   "cell_type": "markdown",
   "metadata": {},
   "source": [
    "## Region 13 failings\n",
    "\n",
    "Region 13 is the Central Texas schools"
   ]
  },
  {
   "cell_type": "code",
   "execution_count": 18,
   "metadata": {},
   "outputs": [
    {
     "name": "stdout",
     "output_type": "stream",
     "text": [
      "532\n"
     ]
    }
   ],
   "source": [
    "region = campus.where(lambda row: row['REGION'] == '13')\n",
    "print(len(region))"
   ]
  },
  {
   "cell_type": "code",
   "execution_count": 19,
   "metadata": {},
   "outputs": [
    {
     "name": "stdout",
     "output_type": "stream",
     "text": [
      "| CHARTER     | Met standard | Improvement required |\n",
      "| ----------- | ------------ | -------------------- |\n",
      "| Not charter |          475 |                   20 |\n",
      "| Charter     |           35 |                    2 |\n"
     ]
    }
   ],
   "source": [
    "region_pivot = region.pivot('CHARTER', 'RATING')\n",
    "region_pivot.print_table()"
   ]
  },
  {
   "cell_type": "code",
   "execution_count": 20,
   "metadata": {},
   "outputs": [
    {
     "name": "stdout",
     "output_type": "stream",
     "text": [
      "| CAMPNAME                  | DISTNAME                 | CI1_MET | CI2_MET | CI3_MET | CI4_MET |\n",
      "| ------------------------- | ------------------------ | ------- | ------- | ------- | ------- |\n",
      "| BURNET M S                | AUSTIN ISD               | N       | N       | N       | Y       |\n",
      "| GOVALLE EL                | AUSTIN ISD               | N       | Y       | N       | Y       |\n",
      "| MARTIN MIDDLE             | AUSTIN ISD               | N       | N       | Y       | Y       |\n",
      "| MENDEZ M S                | AUSTIN ISD               | N       | N       | N       | N       |\n",
      "| BARTLETT SCHOOLS          | BARTLETT ISD             | N       | Y       | N       | N       |\n",
      "| DIME BOX SCHOOL           | DIME BOX ISD             | N       | Y       | N       | Y       |\n",
      "| BOOKER T WASHINGTON EL    | ELGIN ISD                | N       | Y       | N       | Y       |\n",
      "| ELGIN EL                  | ELGIN ISD                | N       | Y       | N       | Y       |\n",
      "| ANNIE PURL EL             | GEORGETOWN ISD           | P       | P       | P       | P       |\n",
      "| JAMES E MITCHELL EL       | GEORGETOWN ISD           | N       | N       | N       | Y       |\n",
      "| PAT COOPER EL             | GEORGETOWN ISD           | Y       | Y       | N       | Y       |\n",
      "| WILLIAMS EL               | GEORGETOWN ISD           | Y       | Y       | N       | Y       |\n",
      "| HEMPHILL EL               | HAYS CISD                | N       | Y       | N       | N       |\n",
      "| SCIENCE HALL EL           | HAYS CISD                | N       | Y       | N       | Y       |\n",
      "| ALMA BREWER STRAWN EL     | LOCKHART ISD             | N       | Y       | N       | Y       |\n",
      "| BLUEBONNET EL             | LOCKHART ISD             | N       | Y       | N       | Y       |\n",
      "| LULING EL                 | LULING ISD               | N       | Y       | N       | Y       |\n",
      "| LULING PRI                | LULING ISD               | P       | P       | P       | P       |\n",
      "| MANOR MIDDLE              | MANOR ISD                | N       | N       | N       | Y       |\n",
      "| MAGNOLIA MONTESSORI FO... | MONTESSORI FOR ALL       | Y       | Y       | N       | Y       |\n",
      "| PRAIRIE LEA SCHOOL        | PRAIRIE LEA ISD          | N       | Y       | N       | Y       |\n",
      "| TEXAS PREPARATORY SCHO... | TEXAS PREPARATORY SCHOOL | N       | Y       | Y       | N       |\n"
     ]
    }
   ],
   "source": [
    "# filter to failed schools\n",
    "region_failed = region.where(lambda row: row['RATING'] == 'Improvement required')\n",
    "\n",
    "# sort the list by district, campus\n",
    "region_sorted = region_failed.select(columns_fail_list).order_by(lambda row: (row['DISTNAME'], row['CAMPNAME']))\n",
    "\n",
    "# print the list\n",
    "region_sorted.print_table(max_rows=None, max_columns=None, max_column_width=25)"
   ]
  },
  {
   "cell_type": "code",
   "execution_count": null,
   "metadata": {},
   "outputs": [],
   "source": []
  }
 ],
 "metadata": {
  "kernelspec": {
   "display_name": "Python 3",
   "language": "python",
   "name": "python3"
  },
  "language_info": {
   "codemirror_mode": {
    "name": "ipython",
    "version": 3
   },
   "file_extension": ".py",
   "mimetype": "text/x-python",
   "name": "python",
   "nbconvert_exporter": "python",
   "pygments_lexer": "ipython3",
   "version": "3.6.4"
  }
 },
 "nbformat": 4,
 "nbformat_minor": 1
}
