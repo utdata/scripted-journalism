{
 "cells": [
  {
   "cell_type": "markdown",
   "metadata": {},
   "source": [
    "# 2010 census pops from csv\n",
    "\n",
    "This version starts with a csv file `/data/DEC_10_SF1_TX_County_population.csv` that is used for the same assignment using Excel.\n",
    "\n",
    "The data set is 2010 population by Hispanic ethnicity and race for all Texas counties, but it is only select columns from the data set.  Hidalgo County was fixed to remove the annotation on total populaton.\n",
    "\n",
    "## The quest\n",
    "- Calculate the percentage of population share for each race for each county\n",
    "- Find which county had the highest share of population for each of the ethnicities/races.\n"
   ]
  },
  {
   "cell_type": "code",
   "execution_count": 1,
   "metadata": {
    "collapsed": true
   },
   "outputs": [],
   "source": [
    "import agate\n",
    "from decimal import Decimal\n",
    "import warnings\n",
    "warnings.filterwarnings('ignore')"
   ]
  },
  {
   "cell_type": "code",
   "execution_count": 2,
   "metadata": {
    "collapsed": false
   },
   "outputs": [],
   "source": [
    "column_names = ['Id', 'Id2', 'Geography',\n",
    "                'Total pop', 'Hispanic', 'Not Hispanic', 'White', 'Black',\n",
    "                'Indian', 'Asian', 'Hawaiian', 'Other', 'Two or more']\n",
    "column_types = [agate.Text(), agate.Text(), agate.Text(), \n",
    "                agate.Number(), agate.Number(), agate.Number(), agate.Number(), agate.Number(),\n",
    "                agate.Number(), agate.Number(), agate.Number(), agate.Number(), agate.Number(), ]\n",
    "\n",
    "raw = agate.Table.from_csv(\n",
    "    '../data/DEC_10_SF1_TX_County_population.csv',\n",
    "    column_names,\n",
    "    column_types,\n",
    "    skip_lines=2)"
   ]
  },
  {
   "cell_type": "code",
   "execution_count": 3,
   "metadata": {
    "collapsed": false
   },
   "outputs": [
    {
     "name": "stdout",
     "output_type": "stream",
     "text": [
      "| column       | data_type |\n",
      "| ------------ | --------- |\n",
      "| Id           | Text      |\n",
      "| Id2          | Text      |\n",
      "| Geography    | Text      |\n",
      "| Total pop    | Number    |\n",
      "| Hispanic     | Number    |\n",
      "| Not Hispanic | Number    |\n",
      "| White        | Number    |\n",
      "| Black        | Number    |\n",
      "| Indian       | Number    |\n",
      "| Asian        | Number    |\n",
      "| Hawaiian     | Number    |\n",
      "| Other        | Number    |\n",
      "| Two or more  | Number    |\n",
      "\n"
     ]
    }
   ],
   "source": [
    "print(raw)"
   ]
  },
  {
   "cell_type": "code",
   "execution_count": 7,
   "metadata": {
    "collapsed": false
   },
   "outputs": [],
   "source": [
    "# this is used by the .compute method below\n",
    "# It does the math for the percentage\n",
    "# then rounds it with .quantize\n",
    "def make_percentage(row):\n",
    "    return lambda r: ((r[row] / r['Total pop']) * 100).quantize(Decimal('0.01'))\n"
   ]
  },
  {
   "cell_type": "code",
   "execution_count": 8,
   "metadata": {
    "collapsed": false
   },
   "outputs": [],
   "source": [
    "# this creates a new column of percentage of race\n",
    "percentages = raw.compute([\n",
    "    ('Hispanic %', agate.Formula(agate.Number(), make_percentage('Hispanic'))),\n",
    "    ('White %', agate.Formula(agate.Number(), make_percentage('White'))),\n",
    "    ('Black %', agate.Formula(agate.Number(), make_percentage('Black'))),\n",
    "    ('Indian %', agate.Formula(agate.Number(), make_percentage('Indian'))),\n",
    "    ('Asian %', agate.Formula(agate.Number(), make_percentage('Asian'))),\n",
    "    ('Hawaiian %', agate.Formula(agate.Number(), make_percentage('Hawaiian'))),\n",
    "    ('Other %', agate.Formula(agate.Number(), make_percentage('Other'))),\n",
    "    ('Two or more %', agate.Formula(agate.Number(), make_percentage('Two or more'))),\n",
    "])\n",
    "\n",
    "# We should be able to refactor this as a loop through an original list of columns.\n",
    "# Part of what I don't know is how to create a new column_name from the column\n",
    "# passed in, among other issues."
   ]
  },
  {
   "cell_type": "code",
   "execution_count": 10,
   "metadata": {
    "collapsed": false
   },
   "outputs": [
    {
     "name": "stdout",
     "output_type": "stream",
     "text": [
      "County with highest Hispanic %\n",
      "\n",
      "| Geography            | Hispanic % |\n",
      "| -------------------- | ---------- |\n",
      "| Webb County, Texas   |      95.74 |\n",
      "| Maverick County, ... |      95.68 |\n",
      "| Starr County, Texas  |      95.68 |\n",
      "| ...                  |        ... |\n",
      "\n",
      "\n",
      "County with highest White %\n",
      "\n",
      "| Geography            | White % |\n",
      "| -------------------- | ------- |\n",
      "| Clay County, Texas   |   92.46 |\n",
      "| Armstrong County,... |   90.74 |\n",
      "| Roberts County, T... |   90.53 |\n",
      "| ...                  |     ... |\n",
      "\n",
      "\n",
      "County with highest Black %\n",
      "\n",
      "| Geography            | Black % |\n",
      "| -------------------- | ------- |\n",
      "| Jefferson County,... |   33.50 |\n",
      "| Houston County, T... |   25.83 |\n",
      "| Falls County, Texas  |   24.98 |\n",
      "| ...                  |     ... |\n",
      "\n",
      "\n",
      "County with highest Asian %\n",
      "\n",
      "| Geography            | Asian % |\n",
      "| -------------------- | ------- |\n",
      "| Fort Bend County,... |   16.87 |\n",
      "| Collin County, Texas |   11.16 |\n",
      "| Denton County, Texas |    6.50 |\n",
      "| ...                  |     ... |\n",
      "\n",
      "\n",
      "County with highest Hawaiian %\n",
      "\n",
      "| Geography            | Hawaiian % |\n",
      "| -------------------- | ---------- |\n",
      "| Coryell County, T... |       0.84 |\n",
      "| Navarro County, T... |       0.80 |\n",
      "| Bell County, Texas   |       0.72 |\n",
      "| ...                  |        ... |\n",
      "\n",
      "\n",
      "County with highest Other %\n",
      "\n",
      "| Geography            | Other % |\n",
      "| -------------------- | ------- |\n",
      "| Winkler County, T... |    0.60 |\n",
      "| Armstrong County,... |    0.58 |\n",
      "| DeWitt County, Texas |    0.48 |\n",
      "| ...                  |     ... |\n",
      "\n",
      "\n",
      "County with highest Two or more %\n",
      "\n",
      "| Geography            | Two or more % |\n",
      "| -------------------- | ------------- |\n",
      "| Coryell County, T... |          3.44 |\n",
      "| Bell County, Texas   |          3.22 |\n",
      "| Lamar County, Texas  |          2.26 |\n",
      "| ...                  |           ... |\n",
      "\n",
      "\n"
     ]
    }
   ],
   "source": [
    "# setting up race columns for print function below\n",
    "races = [\n",
    "    'Hispanic %',\n",
    "    'White %',\n",
    "    'Black %',\n",
    "    'Asian %',\n",
    "    'Hawaiian %',\n",
    "    'Other %',\n",
    "    'Two or more %',\n",
    "]\n",
    "\n",
    "# function to print a sentence and table for each percent column\n",
    "def print_winners(race):\n",
    "    for race in races:\n",
    "        print('County with highest {}\\n'.format(race))\n",
    "        percentages.select(['Geography', race]).order_by(race, reverse=True).print_table(3)\n",
    "        print('\\n')\n",
    "\n",
    "print_winners(races)"
   ]
  },
  {
   "cell_type": "code",
   "execution_count": null,
   "metadata": {
    "collapsed": true
   },
   "outputs": [],
   "source": []
  }
 ],
 "metadata": {
  "kernelspec": {
   "display_name": "Python 3",
   "language": "python",
   "name": "python3"
  },
  "language_info": {
   "codemirror_mode": {
    "name": "ipython",
    "version": 3
   },
   "file_extension": ".py",
   "mimetype": "text/x-python",
   "name": "python",
   "nbconvert_exporter": "python",
   "pygments_lexer": "ipython3",
   "version": "3.5.2"
  }
 },
 "nbformat": 4,
 "nbformat_minor": 0
}
