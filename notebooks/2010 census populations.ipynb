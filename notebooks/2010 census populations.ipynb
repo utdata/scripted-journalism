{
 "cells": [
  {
   "cell_type": "markdown",
   "metadata": {},
   "source": [
    "# 2010 census pops from csv\n",
    "\n",
    "This version starts with a csv that is the same as an excel assignment.\n",
    "\n",
    "Hidalgo County was fixed to remove the annotation on total populaton."
   ]
  },
  {
   "cell_type": "code",
   "execution_count": 2,
   "metadata": {
    "collapsed": true
   },
   "outputs": [],
   "source": [
    "import agate\n",
    "import warnings\n",
    "warnings.filterwarnings('ignore')"
   ]
  },
  {
   "cell_type": "code",
   "execution_count": 27,
   "metadata": {
    "collapsed": false
   },
   "outputs": [],
   "source": [
    "column_names = ['Id', 'Id2', 'Geography',\n",
    "                'Total pop', 'Hispanic', 'Not Hispanic', 'White', 'Black',\n",
    "                'Indian', 'Asian', 'Hawaiian', 'Other', 'Two or more']\n",
    "column_types = [agate.Text(), agate.Text(), agate.Text(), \n",
    "                agate.Number(), agate.Number(), agate.Number(), agate.Number(), agate.Number(),\n",
    "                agate.Number(), agate.Number(), agate.Number(), agate.Number(), agate.Number(), ]\n",
    "\n",
    "raw = agate.Table.from_csv(\n",
    "    '../data/DEC_10_SF1_TX_County_population.csv',\n",
    "    column_names,\n",
    "    column_types,\n",
    "    skip_lines=2)"
   ]
  },
  {
   "cell_type": "code",
   "execution_count": 28,
   "metadata": {
    "collapsed": false
   },
   "outputs": [
    {
     "name": "stdout",
     "output_type": "stream",
     "text": [
      "| column       | data_type |\n",
      "| ------------ | --------- |\n",
      "| Id           | Text      |\n",
      "| Id2          | Text      |\n",
      "| Geography    | Text      |\n",
      "| Total pop    | Number    |\n",
      "| Hispanic     | Number    |\n",
      "| Not Hispanic | Number    |\n",
      "| White        | Number    |\n",
      "| Black        | Number    |\n",
      "| Indian       | Number    |\n",
      "| Asian        | Number    |\n",
      "| Hawaiian     | Number    |\n",
      "| Other        | Number    |\n",
      "| Two or more  | Number    |\n",
      "\n"
     ]
    }
   ],
   "source": [
    "print(raw)"
   ]
  },
  {
   "cell_type": "code",
   "execution_count": 52,
   "metadata": {
    "collapsed": false
   },
   "outputs": [],
   "source": [
    "new_table = raw.compute([\n",
    "    ('His %', agate.Formula(agate.Number(), lambda r: (r['Hispanic'] / r['Total pop']) * 100)),\n",
    "])"
   ]
  },
  {
   "cell_type": "code",
   "execution_count": 54,
   "metadata": {
    "collapsed": false
   },
   "outputs": [
    {
     "name": "stdout",
     "output_type": "stream",
     "text": [
      "| column       | data_type |\n",
      "| ------------ | --------- |\n",
      "| Id           | Text      |\n",
      "| Id2          | Text      |\n",
      "| Geography    | Text      |\n",
      "| Total pop    | Number    |\n",
      "| Hispanic     | Number    |\n",
      "| Not Hispanic | Number    |\n",
      "| White        | Number    |\n",
      "| Black        | Number    |\n",
      "| Indian       | Number    |\n",
      "| Asian        | Number    |\n",
      "| Hawaiian     | Number    |\n",
      "| Other        | Number    |\n",
      "| Two or more  | Number    |\n",
      "| His %        | Number    |\n",
      "\n",
      "| Geography            |   His % |\n",
      "| -------------------- | ------- |\n",
      "| Andrews County, T... | 48.661… |\n",
      "| Angelina County, ... | 19.759… |\n",
      "| Aransas County, T... | 24.570… |\n",
      "| Archer County, Texas |  7.455… |\n",
      "| Armstrong County,... |  6.523… |\n",
      "| Atascosa County, ... | 61.867… |\n",
      "| Austin County, Texas | 23.370… |\n",
      "| Bailey County, Texas | 59.777… |\n",
      "| Bandera County, T... | 16.671… |\n",
      "| Bastrop County, T... | 32.614… |\n",
      "| Baylor County, Texas | 12.211… |\n",
      "| Bee County, Texas    | 56.200… |\n",
      "| Bell County, Texas   | 21.600… |\n",
      "| Bexar County, Texas  | 58.723… |\n",
      "| Blanco County, Texas | 18.186… |\n",
      "| Borden County, Texas | 14.821… |\n",
      "| Bosque County, Texas | 16.066… |\n",
      "| Bowie County, Texas  |  6.549… |\n",
      "| Brazoria County, ... | 27.667… |\n",
      "| Brazos County, Texas | 23.302… |\n",
      "| ...                  |     ... |\n"
     ]
    }
   ],
   "source": [
    "print(new_table)\n",
    "new_table.select(['Geography', 'His %']).print_table()"
   ]
  },
  {
   "cell_type": "code",
   "execution_count": null,
   "metadata": {
    "collapsed": true
   },
   "outputs": [],
   "source": []
  }
 ],
 "metadata": {
  "kernelspec": {
   "display_name": "Python 3",
   "language": "python",
   "name": "python3"
  },
  "language_info": {
   "codemirror_mode": {
    "name": "ipython",
    "version": 3
   },
   "file_extension": ".py",
   "mimetype": "text/x-python",
   "name": "python",
   "nbconvert_exporter": "python",
   "pygments_lexer": "ipython3",
   "version": "3.5.2"
  }
 },
 "nbformat": 4,
 "nbformat_minor": 0
}
